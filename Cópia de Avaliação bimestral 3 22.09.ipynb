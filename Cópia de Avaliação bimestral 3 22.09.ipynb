{
 "cells": [
  {
   "cell_type": "markdown",
   "metadata": {
    "id": "XpJAZxJGnsjo"
   },
   "source": [
    "Coloque seu nome aqui:vitoria Moreira Pires"
   ]
  },
  {
   "cell_type": "markdown",
   "metadata": {
    "id": "psR_IyuqtxJc"
   },
   "source": [
    "**Atividade Avaliativa **\n",
    "\n",
    "Enunciado:\n",
    "\n",
    "Crie um programa em Python para avaliar uma competição de bandas de música. O programa deve:\n",
    "\n",
    "Perguntar a quantidade de bandas participantes (mínimo 3).\n",
    "\n",
    "Perguntar o nome de cada banda.\n",
    "\n",
    "Para cada banda, receber as notas de 5 jurados (valores de 0 a 10).\n",
    "\n",
    "Calcular a média das notas de cada banda e armazenar o resultado em um dicionário, onde a chave será o nome da banda e o valor será a média das notas.\n",
    "\n",
    "Ao final, mostrar:\n",
    "\n",
    "A média de cada banda.\n",
    "\n",
    "O nome da banda vencedora (a que tiver maior média)."
   ]
  },
  {
   "cell_type": "code",
   "execution_count": 8,
   "metadata": {
    "id": "3v1htaJlrcvG"
   },
   "outputs": [
    {
     "ename": "IndentationError",
     "evalue": "expected an indented block after 'if' statement on line 8 (2513855200.py, line 9)",
     "output_type": "error",
     "traceback": [
      "\u001b[1;36m  Cell \u001b[1;32mIn [8], line 9\u001b[1;36m\u001b[0m\n\u001b[1;33m    print('Saida feita com sucesso')\u001b[0m\n\u001b[1;37m    ^\u001b[0m\n\u001b[1;31mIndentationError\u001b[0m\u001b[1;31m:\u001b[0m expected an indented block after 'if' statement on line 8\n"
     ]
    }
   ],
   "source": [
    "# Digite sua resposta\n",
    "\n",
    "bandas = int(input(\"Quantas bandas estão participando? (min 3 bandas): \"))\n",
    "\n",
    "while bandas < 3:\n",
    "    print(\"O número de bandas deve ser obrigatóriamente 3 no minímo.\")\n",
    "    bandas = int(input(\"Quantas bandas estão participando? (min 3 bandas)\"))\n",
    "    \n",
    "quantBandas = {}\n",
    "\n",
    "for i in(bandas):\n",
    "    nome-bandas = input(\"Qual nome dsa banda?\")\n",
    "    \n",
    "    notas = []\n",
    "    for i in range(5):\n",
    "        nota = float(input(f\"digite a nota jurado {i+1} para banda {nome-banda} (0 a 10)\"))\n",
    "        whilw nota , 0 or nota > 10:\n",
    "            print(\"Anota deve ser entre 0 e 10\")\n",
    "            nota = float(input(f\"Digite a nota do jurado {i +1} para a banda {nome-banda} (0 a 10) \"))\n",
    "        notas.append(nota)\n",
    "        \n",
    "        media = sum"
   ]
  },
  {
   "cell_type": "markdown",
   "metadata": {
    "id": "fRV1N-Q4G7BK"
   },
   "source": [
    "Enunciado:\n",
    "\n",
    "Crie um programa que conte quantas vezes cada palavra aparece em uma frase.\n",
    "\n",
    "Pedir ao usuário para digitar uma frase\n",
    "\n",
    "Imprimir a palavra e quantas vezes ela aparece"
   ]
  },
  {
   "cell_type": "code",
   "execution_count": 6,
   "metadata": {
    "id": "HwK3-mVQHv8j"
   },
   "outputs": [
    {
     "name": "stdout",
     "output_type": "stream",
     "text": [
      "Digite uma frase por favor: estou muito feliz feliz feliz e feliz mais triste triste triste com voce\n",
      "A palavra (estou) apareceu na sua frase 1 vezes.\n",
      "A palavra (muito) apareceu na sua frase 1 vezes.\n",
      "A palavra (feliz) apareceu na sua frase 4 vezes.\n",
      "A palavra (e) apareceu na sua frase 1 vezes.\n",
      "A palavra (mais) apareceu na sua frase 1 vezes.\n",
      "A palavra (triste) apareceu na sua frase 3 vezes.\n",
      "A palavra (com) apareceu na sua frase 1 vezes.\n",
      "A palavra (voce) apareceu na sua frase 1 vezes.\n"
     ]
    }
   ],
   "source": [
    "# Digite sua resposta\n",
    "\n",
    "frase = input('Digite uma frase por favor: ')\n",
    "palavras = frase.split()\n",
    "cont = {}\n",
    "for palavra in palavras:\n",
    "  if palavra in cont:\n",
    "    cont[palavra] += 1\n",
    "  else:\n",
    "    cont[palavra] = 1\n",
    "\n",
    "for palavra, contagem in cont.items():\n",
    "    print(f\"A palavra ({palavra}) apareceu na sua frase {contagem} vezes.\")\n",
    "\n",
    "     \n",
    "\n",
    "    \n"
   ]
  },
  {
   "cell_type": "markdown",
   "metadata": {
    "id": "BKrOSqrOI2T5"
   },
   "source": [
    "Enunciado:\n",
    "\n",
    "Crie um programa em python que imprima números pares\n",
    "\n",
    "Pedir o usuário para digitar uma lista com mínimo 10 números\n",
    "\n",
    "Criar uma nova somente com numeros pares\n",
    "\n",
    "Imprimir números pares\n",
    "\n"
   ]
  },
  {
   "cell_type": "code",
   "execution_count": 8,
   "metadata": {
    "id": "dBf7H6s9MjgZ"
   },
   "outputs": [
    {
     "name": "stdout",
     "output_type": "stream",
     "text": [
      "Digitar um numero: 10\n",
      "Digitar um numero: 12\n",
      "Digitar um numero: 3\n",
      "Digitar um numero: 5\n",
      "Digitar um numero: 4\n",
      "Digitar um numero: 8\n",
      "Digitar um numero: 9\n",
      "Digitar um numero: 13\n",
      "Digitar um numero: 20\n",
      "Digitar um numero: 9\n",
      "Os numeros pares desta lista são: \n",
      "Nenhum dos numeors da sua lista são pares.\n"
     ]
    }
   ],
   "source": [
    "# Digite sua resposta\n",
    "\n",
    "novList = []\n",
    "\n",
    "for i in range(10): \n",
    "    lista = int(input('Digitar um numero: '))\n",
    "    novList.append(lista)\n",
    "\n",
    "pares = []\n",
    "for lista in novList:\n",
    "    if i % 2 == 0:\n",
    "        pares.append(lista)\n",
    "        \n",
    "print(\"Os numeros pares desta lista são: \")\n",
    "if pares:\n",
    "    print(pares)\n",
    "else:\n",
    "    print(\"Nenhum dos numeors da sua lista são pares.\")\n",
    "        \n",
    "    "
   ]
  },
  {
   "cell_type": "markdown",
   "metadata": {},
   "source": []
  },
  {
   "cell_type": "code",
   "execution_count": null,
   "metadata": {},
   "outputs": [],
   "source": []
  },
  {
   "cell_type": "code",
   "execution_count": null,
   "metadata": {},
   "outputs": [],
   "source": []
  },
  {
   "cell_type": "code",
   "execution_count": null,
   "metadata": {},
   "outputs": [],
   "source": []
  }
 ],
 "metadata": {
  "colab": {
   "authorship_tag": "ABX9TyMPfa4id0nMFHSWqcbBwSar",
   "provenance": [
    {
     "file_id": "1oEsagsr0AUsUTO9iGnea3JAW6NiCwqeB",
     "timestamp": 1758547990346
    },
    {
     "file_id": "1LADCxzYvBqiYFcjSgL_Z5bblVMBbsfJg",
     "timestamp": 1757516692807
    }
   ]
  },
  "kernelspec": {
   "display_name": "Python 3 (ipykernel)",
   "language": "python",
   "name": "python3"
  },
  "language_info": {
   "codemirror_mode": {
    "name": "ipython",
    "version": 3
   },
   "file_extension": ".py",
   "mimetype": "text/x-python",
   "name": "python",
   "nbconvert_exporter": "python",
   "pygments_lexer": "ipython3",
   "version": "3.10.7"
  }
 },
 "nbformat": 4,
 "nbformat_minor": 1
}
