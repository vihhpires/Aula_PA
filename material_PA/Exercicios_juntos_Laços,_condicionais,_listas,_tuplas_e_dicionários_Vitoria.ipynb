{
  "nbformat": 4,
  "nbformat_minor": 0,
  "metadata": {
    "colab": {
      "provenance": [],
      "include_colab_link": true
    },
    "kernelspec": {
      "name": "python3",
      "display_name": "Python 3"
    },
    "language_info": {
      "name": "python"
    }
  },
  "cells": [
    {
      "cell_type": "markdown",
      "metadata": {
        "id": "view-in-github",
        "colab_type": "text"
      },
      "source": [
        "<a href=\"https://colab.research.google.com/github/vihhpires/Aula_PA/blob/main/material_PA/Exercicios_juntos_La%C3%A7os%2C_condicionais%2C_listas%2C_tuplas_e_dicion%C3%A1rios_Vitoria.ipynb\" target=\"_parent\"><img src=\"https://colab.research.google.com/assets/colab-badge.svg\" alt=\"Open In Colab\"/></a>"
      ]
    },
    {
      "cell_type": "markdown",
      "source": [
        "Lista de Exercícios unindo tudo que foi ensinado até o momento:\n",
        "\n",
        "\n",
        "*   Condicionais\n",
        "*   Laços de Reptição\n",
        "*   Listas\n",
        "*   Tuplas\n",
        "*   Dicionários\n",
        "*   Manipulação de Strings\n",
        "\n",
        "\n",
        "\n",
        "\n",
        "\n"
      ],
      "metadata": {
        "id": "JsFcwNObBRcd"
      }
    },
    {
      "cell_type": "markdown",
      "source": [
        "# Tuplas - Acesso e Desempacotamento\n",
        "\n",
        "1) Crie uma tupla contendo três tipos diferentes de dados: um número, uma string e uma lista. Use um laço de repetição para acessar e imprimir cada item da tupla. Além disso, dentro do laço, acesse e imprima o segundo item da lista que está dentro da tupla."
      ],
      "metadata": {
        "id": "HM91bKpkBqGI"
      }
    },
    {
      "cell_type": "code",
      "source": [
        "dados = (24, \"Cíntia\",[5,8,3])\n",
        "\n",
        "for i in dados:\n",
        "  print(i)"
      ],
      "metadata": {
        "colab": {
          "base_uri": "https://localhost:8080/"
        },
        "id": "sCbCOqPVYeRv",
        "outputId": "af3c6746-3b08-4e8d-dd9e-e3141ac067b0"
      },
      "execution_count": null,
      "outputs": [
        {
          "output_type": "stream",
          "name": "stdout",
          "text": [
            "24\n",
            "Cíntia\n",
            "[5, 8, 3]\n"
          ]
        }
      ]
    },
    {
      "cell_type": "code",
      "source": [
        "print(dados[2][1])"
      ],
      "metadata": {
        "colab": {
          "base_uri": "https://localhost:8080/"
        },
        "id": "pZ8TJ7EFYsjg",
        "outputId": "5cf0345a-51e5-409e-98a2-f2ac27b540e3"
      },
      "execution_count": null,
      "outputs": [
        {
          "output_type": "stream",
          "name": "stdout",
          "text": [
            "8\n"
          ]
        }
      ]
    },
    {
      "cell_type": "markdown",
      "source": [
        "# Dicionários - Criação e Acesso\n",
        "## Cadastro de Pessoas e Análise de Alturas\n",
        "2) Solicite ao usuário para inserir o nome e a altura de várias pessoas. Preencha um dicionário com essas informações e depois encontre e imprima o nome e a altura da pessoa mais alta e da mais baixa."
      ],
      "metadata": {
        "id": "6vEHxGtjBxMi"
      }
    },
    {
      "cell_type": "code",
      "source": [
        "alturas = {}\n",
        "\n",
        "while True:\n",
        "  nome = input(\"Digite o nome ou saia se quiser: \")\n",
        "  if nome == \"sair\":\n",
        "    print(\"Saida feita com sucesso !!\")\n",
        "    break\n",
        "\n",
        "  altura = float(input(\"Digite a altura: \"))\n",
        "  alturas[nome] = altura\n",
        "\n",
        "mais_alto = max(alturas, key=alturas.get)\n",
        "mais_baixo = min(alturas, key=alturas.get)\n",
        "\n",
        "print(f\"A pessoa mais alta é {mais_alto} com {alturas[mais_alto]} de altura\")\n",
        "print(f\"A pessoa mais baixa é {mais_baixo} com {alturas[mais_baixo]} de altura\")\n",
        "\n"
      ],
      "metadata": {
        "id": "MpJYauvTZR69",
        "colab": {
          "base_uri": "https://localhost:8080/"
        },
        "outputId": "e2203b76-a0c8-4707-d97a-808832739391"
      },
      "execution_count": null,
      "outputs": [
        {
          "output_type": "stream",
          "name": "stdout",
          "text": [
            "Digite o nome ou saia se quiser: bibi perigosa\n",
            "Digite a altura: 1.50\n",
            "Digite o nome ou saia se quiser: belly\n",
            "Digite a altura: 1.62\n",
            "Digite o nome ou saia se quiser: leandrinha\n",
            "Digite a altura: 1.36\n",
            "Digite o nome ou saia se quiser: carlão\n",
            "Digite a altura: 2.68\n",
            "Digite o nome ou saia se quiser: linda\n",
            "Digite a altura: 1.70\n",
            "Digite o nome ou saia se quiser: sair\n",
            "Saida feita com sucesso !!\n",
            "A pessoa mais alta é carlão com 2.68 de altura\n",
            "A pessoa mais baixa é leandrinha com 1.36 de altura\n"
          ]
        }
      ]
    },
    {
      "cell_type": "markdown",
      "source": [
        "# Lista, laços e Condicionais\n",
        "3) Descrição: Crie uma listacom cinco números inteiros. Use um laço de repetição e uma condicional para imprimir apenas os números que são múltiplos de 3."
      ],
      "metadata": {
        "id": "FytD4QZyELAt"
      }
    },
    {
      "cell_type": "code",
      "source": [
        "numeros = [3, 5, 7, 9, 8]\n",
        "multiplos_de_3 = []\n",
        "\n",
        "for i in numeros:\n",
        "    if i % 3 == 0:\n",
        "        multiplos_de_3.append(i)\n",
        "\n",
        "print(\"Os números que são múltiplos de 3 são:\", multiplos_de_3)\n"
      ],
      "metadata": {
        "colab": {
          "base_uri": "https://localhost:8080/"
        },
        "id": "BX9o-0oqzgpq",
        "outputId": "2c6a2587-09b4-4211-9525-783a915e2845"
      },
      "execution_count": null,
      "outputs": [
        {
          "output_type": "stream",
          "name": "stdout",
          "text": [
            "Os números que são múltiplos de 3 são: [3, 9]\n"
          ]
        }
      ]
    },
    {
      "cell_type": "markdown",
      "source": [
        "# Manipulação de Strings e Condicionais\n",
        "4) Descrição: Crie uma string com uma frase. Use uma condicional para verificar se a frase contém a palavra \"Python\". Se sim, substitua a palavra \"Python\" por \"programação\" e imprima a nova frase."
      ],
      "metadata": {
        "id": "hwn3Fz8aEYSH"
      }
    },
    {
      "cell_type": "code",
      "source": [
        "frase = (\"Olá seja bem vindo ao mundo do Python ele é cehio de desafios e aventueras que não vejo a hora de você adentrar com nosco !!!\")\n",
        "\n",
        "if \"Python\" in frase:\n",
        "  frase = frase.replace(\"do Python\", \"da programação\")\n",
        "\n",
        "print(frase)"
      ],
      "metadata": {
        "colab": {
          "base_uri": "https://localhost:8080/"
        },
        "id": "qb1J6ZJ12OzC",
        "outputId": "8cda17f1-15e5-4dbe-bf5a-140aae967656"
      },
      "execution_count": null,
      "outputs": [
        {
          "output_type": "stream",
          "name": "stdout",
          "text": [
            "Olá seja bem vindo ao mundo da programação ele é cehio de desafios e aventueras que não vejo a hora de você adentrar com nosco !!!\n"
          ]
        }
      ]
    },
    {
      "cell_type": "markdown",
      "source": [
        "# Simulação de Alfândega com Cadastro Dinâmico de Itens usando dicionário\n",
        "5) Simule uma situação de alfândega onde o funcionário cadastra itens novos encontrados na mala de uma pessoa que veio de uma viagem internacional. Após o cadastro de todos os itens, o programa imprime uma nota com todos os itens e seus preços, calcula o valor total e, se o valor total ultrapassar 500 dólares, calcula o valor de 60% a ser pago."
      ],
      "metadata": {
        "id": "hPP-JNTxEwFT"
      }
    },
    {
      "cell_type": "code",
      "source": [
        "items = {}\n",
        "\n",
        "while True:\n",
        "  item = input(\"Digite o item ou saia se preferir: \")\n",
        "  if item == \"sair\":\n",
        "    print(\"Saida feita com sucesso !!\")\n",
        "    break\n",
        "\n",
        "  preco = float(input(\"Digite o preço: \"))\n",
        "  items[item] = preco\n",
        "\n"
      ],
      "metadata": {
        "colab": {
          "base_uri": "https://localhost:8080/"
        },
        "id": "cHs4siqm53Es",
        "outputId": "989ef51c-dbc4-42a4-afdb-c5811b0e43ee"
      },
      "execution_count": 3,
      "outputs": [
        {
          "output_type": "stream",
          "name": "stdout",
          "text": [
            "Digite o item ou saia se preferir: shampoo\n",
            "Digite o preço: 300\n",
            "Digite o item ou saia se preferir: carro\n",
            "Digite o preço: 7000.000\n",
            "Digite o item ou saia se preferir: roupas\n",
            "Digite o preço: 5000\n",
            "Digite o item ou saia se preferir: tv\n",
            "Digite o preço: 12000\n",
            "Digite o item ou saia se preferir: mecbook\n",
            "Digite o preço: 13000\n",
            "Digite o item ou saia se preferir: sair\n",
            "Saida feita com sucesso !!\n",
            "--------Nota fiscal:-------\n",
            "shampoo\n",
            "300.0\n",
            "300.0\n",
            "carro\n",
            "7000.0\n",
            "7300.0\n",
            "roupas\n",
            "5000.0\n",
            "12300.0\n",
            "tv\n",
            "12000.0\n",
            "24300.0\n",
            "mecbook\n",
            "13000.0\n",
            "37300.0\n"
          ]
        }
      ]
    },
    {
      "cell_type": "code",
      "source": [
        "print(\"---------Nota fiscal:----------\")\n",
        "total = 0\n",
        "for item, preco in items.items():\n",
        "  total += preco\n",
        "  print(item, preco)\n",
        "  if total >500:\n",
        "    imposto = total+(0.6*total)-total\n",
        "\n",
        "\n",
        "print(\"Total: \", total)\n",
        "print(\"Total de imposto a pagar: \", imposto)\n"
      ],
      "metadata": {
        "colab": {
          "base_uri": "https://localhost:8080/"
        },
        "id": "bE0R3aYSsByN",
        "outputId": "5ab9555d-c2ce-49e7-fe36-7c6084a40fdf"
      },
      "execution_count": 12,
      "outputs": [
        {
          "output_type": "stream",
          "name": "stdout",
          "text": [
            "---------Nota fiscal:----------\n",
            "shampoo 300.0\n",
            "carro 7000.0\n",
            "roupas 5000.0\n",
            "tv 12000.0\n",
            "mecbook 13000.0\n",
            "Total:  37300.0\n",
            "Total de imposto a pagar:  22380.0\n"
          ]
        }
      ]
    },
    {
      "cell_type": "markdown",
      "source": [
        "# Identificação de Palavras Negativas em um Texto\n",
        "6) Você vai criar um programa em Python para analisar um texto e identificar palavras que expressam pensamentos negativos. Para isso, você usará uma lista de palavras negativas fornecida e verificará quais dessas palavras estão presentes no texto fornecido pelo usuário. Exemplo de palavras negtivas, acrescente mais na lista: # Lista de palavras negativas palavras_negativas = ['triste', 'deprimido', 'ansioso', 'desapontado', 'frustrado']"
      ],
      "metadata": {
        "id": "OH8D047zVsp-"
      }
    },
    {
      "cell_type": "code",
      "source": [
        "negativas =  ['triste', 'deprimido', 'ansioso', 'desapontado', 'frustrado']\n",
        "frase = input(\"Digite sua frase: \").lower()\n",
        "palavraNegativa = False\n",
        "\n",
        "for i in negativas:\n",
        "  if i in frase:\n",
        "    palavraNegativa = True\n",
        "    break\n",
        "\n",
        "if palavraNegativa == True:\n",
        "  print(\"Na sua frase tem palavras negativas\" , negativas)\n",
        "else:\n",
        "  print(\"Na sua frase não tem palavras negativas\")\n"
      ],
      "metadata": {
        "id": "xDSrYWf_Vr8G",
        "colab": {
          "base_uri": "https://localhost:8080/"
        },
        "outputId": "34883286-0a26-4dfa-8bc5-d6c91dbba3d3"
      },
      "execution_count": 17,
      "outputs": [
        {
          "output_type": "stream",
          "name": "stdout",
          "text": [
            "Digite sua frase: olá bom dia meu anjo, estou ótima !\n",
            "Na sua frase não tem palavras negativas\n"
          ]
        }
      ]
    }
  ]
}