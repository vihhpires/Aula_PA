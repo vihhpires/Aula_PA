{
  "nbformat": 4,
  "nbformat_minor": 0,
  "metadata": {
    "colab": {
      "provenance": [],
      "authorship_tag": "ABX9TyPxZCifBQ7a4Xctk/fI6uMW",
      "include_colab_link": true
    },
    "kernelspec": {
      "name": "python3",
      "display_name": "Python 3"
    },
    "language_info": {
      "name": "python"
    }
  },
  "cells": [
    {
      "cell_type": "markdown",
      "metadata": {
        "id": "view-in-github",
        "colab_type": "text"
      },
      "source": [
        "<a href=\"https://colab.research.google.com/github/vihhpires/Aula_PA/blob/main/material_PA/V%C3%A1riaveiseOperadores.ipynb\" target=\"_parent\"><img src=\"https://colab.research.google.com/assets/colab-badge.svg\" alt=\"Open In Colab\"/></a>"
      ]
    },
    {
      "cell_type": "markdown",
      "source": [
        "# OPERADORES"
      ],
      "metadata": {
        "id": "hxMIjRPm0Q1-"
      }
    },
    {
      "cell_type": "code",
      "execution_count": null,
      "metadata": {
        "colab": {
          "base_uri": "https://localhost:8080/"
        },
        "id": "FfUIKmjryLV2",
        "outputId": "f2e9ad16-f71c-4e3a-e0aa-7b63e17b2d1e"
      },
      "outputs": [
        {
          "output_type": "execute_result",
          "data": {
            "text/plain": [
              "2"
            ]
          },
          "metadata": {},
          "execution_count": 1
        }
      ],
      "source": [
        "# soma\n",
        "1+1"
      ]
    },
    {
      "cell_type": "code",
      "source": [
        "# subtração\n",
        "5-3"
      ],
      "metadata": {
        "colab": {
          "base_uri": "https://localhost:8080/"
        },
        "id": "0OjGdZSLyrtM",
        "outputId": "7ef7d26e-0172-46ac-8636-729c5683e22e"
      },
      "execution_count": null,
      "outputs": [
        {
          "output_type": "execute_result",
          "data": {
            "text/plain": [
              "2"
            ]
          },
          "metadata": {},
          "execution_count": 2
        }
      ]
    },
    {
      "cell_type": "code",
      "source": [
        "# multiplicação\n",
        "5*5"
      ],
      "metadata": {
        "colab": {
          "base_uri": "https://localhost:8080/"
        },
        "id": "8ozh2Bcgy5lQ",
        "outputId": "715d215f-8156-42c4-945e-93c60ac48ac3"
      },
      "execution_count": null,
      "outputs": [
        {
          "output_type": "execute_result",
          "data": {
            "text/plain": [
              "25"
            ]
          },
          "metadata": {},
          "execution_count": 3
        }
      ]
    },
    {
      "cell_type": "code",
      "source": [
        "# divisão\n",
        "6/2"
      ],
      "metadata": {
        "colab": {
          "base_uri": "https://localhost:8080/"
        },
        "id": "k-wi82UBzN_G",
        "outputId": "7a960df1-17df-4ec2-8b38-0b680861d648"
      },
      "execution_count": null,
      "outputs": [
        {
          "output_type": "execute_result",
          "data": {
            "text/plain": [
              "3.0"
            ]
          },
          "metadata": {},
          "execution_count": 5
        }
      ]
    },
    {
      "cell_type": "code",
      "source": [
        "# expoente\n",
        "2**2"
      ],
      "metadata": {
        "colab": {
          "base_uri": "https://localhost:8080/"
        },
        "id": "kZ5R4vwBz0rH",
        "outputId": "f47da88c-fca9-45d3-ee22-4a50efa61fa8"
      },
      "execution_count": null,
      "outputs": [
        {
          "output_type": "execute_result",
          "data": {
            "text/plain": [
              "4"
            ]
          },
          "metadata": {},
          "execution_count": 6
        }
      ]
    },
    {
      "cell_type": "markdown",
      "source": [
        "#  VARIAVÉIS"
      ],
      "metadata": {
        "id": "gq7VQDRd0yfv"
      }
    },
    {
      "cell_type": "code",
      "source": [
        "soma = 5+7"
      ],
      "metadata": {
        "id": "--II_F9M0_oK"
      },
      "execution_count": null,
      "outputs": []
    },
    {
      "cell_type": "code",
      "source": [
        "print (' A soma é igual =',soma)"
      ],
      "metadata": {
        "colab": {
          "base_uri": "https://localhost:8080/"
        },
        "id": "t6go7o7c1FoK",
        "outputId": "e3d883c5-d343-49eb-d9d2-4cadb7a3eadf"
      },
      "execution_count": null,
      "outputs": [
        {
          "output_type": "stream",
          "name": "stdout",
          "text": [
            " A soma é igual = 12\n"
          ]
        }
      ]
    },
    {
      "cell_type": "code",
      "source": [
        "soma"
      ],
      "metadata": {
        "colab": {
          "base_uri": "https://localhost:8080/"
        },
        "id": "yFYw42go1daq",
        "outputId": "b4c671bd-c4a2-4731-9758-fbd5e2e248c2"
      },
      "execution_count": null,
      "outputs": [
        {
          "output_type": "execute_result",
          "data": {
            "text/plain": [
              "12"
            ]
          },
          "metadata": {},
          "execution_count": 13
        }
      ]
    },
    {
      "cell_type": "code",
      "source": [
        "soma = soma + 2\n",
        "print (' A soma agora é =',soma)"
      ],
      "metadata": {
        "colab": {
          "base_uri": "https://localhost:8080/"
        },
        "id": "BO4b_b5f1pPg",
        "outputId": "f2d36693-2a77-45a7-d73a-0e9794b28174"
      },
      "execution_count": null,
      "outputs": [
        {
          "output_type": "stream",
          "name": "stdout",
          "text": [
            " A soma agora é = 16\n"
          ]
        }
      ]
    },
    {
      "cell_type": "code",
      "source": [
        "soma = soma - 5\n",
        "print (' A soma agora tem =',soma)"
      ],
      "metadata": {
        "colab": {
          "base_uri": "https://localhost:8080/"
        },
        "id": "QJWI6Kkn24P9",
        "outputId": "48bdd4da-fbc8-48d0-9536-5576f101d207"
      },
      "execution_count": null,
      "outputs": [
        {
          "output_type": "stream",
          "name": "stdout",
          "text": [
            " A soma agora tem = 11\n"
          ]
        }
      ]
    },
    {
      "cell_type": "code",
      "source": [
        "soma = soma +2-5*8/3\n",
        "print (' A soma agora tem', soma)"
      ],
      "metadata": {
        "colab": {
          "base_uri": "https://localhost:8080/"
        },
        "id": "EeWBhree3Sul",
        "outputId": "6ff07dcf-68d3-48a3-bfa1-814c80cfe1c9"
      },
      "execution_count": null,
      "outputs": [
        {
          "output_type": "stream",
          "name": "stdout",
          "text": [
            " A soma agora tem -45.66666666666667\n"
          ]
        }
      ]
    },
    {
      "cell_type": "code",
      "source": [
        "# expressão numerica\n",
        "conta = int\n",
        "conta = 23 + 7 * (45*5)\n",
        "print ('soma é =',conta)"
      ],
      "metadata": {
        "colab": {
          "base_uri": "https://localhost:8080/"
        },
        "id": "ERuDw87d41x2",
        "outputId": "80d2b1eb-79ee-4e34-f12a-e87e69ca90f3"
      },
      "execution_count": null,
      "outputs": [
        {
          "output_type": "stream",
          "name": "stdout",
          "text": [
            "soma é = 1598\n"
          ]
        }
      ]
    },
    {
      "cell_type": "code",
      "source": [
        "# calcular área do quadrado.\n",
        "## float é para numeros quebrados(frações).\n",
        "### int apenas para inteiros.\n",
        "\n",
        "#entrada\n",
        "lado = float(input('digite o lado do quadrado:'))\n",
        "\n",
        "# processamento\n",
        "area = lado * lado\n",
        "\n",
        "# saída\n",
        "print ('A área do quadrado é :', area, 'cm2')"
      ],
      "metadata": {
        "colab": {
          "base_uri": "https://localhost:8080/"
        },
        "id": "iKXNkbmC63XV",
        "outputId": "2099f67c-867c-4e47-baf0-b2c78b900b70"
      },
      "execution_count": null,
      "outputs": [
        {
          "output_type": "stream",
          "name": "stdout",
          "text": [
            "digite o lado do quadrado:889\n",
            "A área do quadrado é : 790321.0 cm2\n"
          ]
        }
      ]
    },
    {
      "cell_type": "markdown",
      "source": [
        "\n",
        "# desenvolvimento algoritimos"
      ],
      "metadata": {
        "id": "jOCNNVQiVk5U"
      }
    },
    {
      "cell_type": "code",
      "source": [
        "# média da nota\n",
        "\n",
        "## entrada\n",
        "\n",
        "nota1 = float(input(' Digite sua nota do 1° bimestre ='))\n",
        "nota2 = float(input(' Digite sua nota do 2° bimestre ='))\n",
        "nota3 = float(input(' Digite sua nota do 3° bimestre ='))\n",
        "nota4 = float(input(' Digite sua nota do 4° bimestre ='))\n",
        "\n",
        "## processamento(a conta para descobrir a nota média)\n",
        "\n",
        "media = (nota1 + nota2 + nota3 + nota4) /4\n",
        "\n",
        "## sída\n",
        "\n",
        "print('A sua nota média é =', media)\n",
        "\n"
      ],
      "metadata": {
        "colab": {
          "base_uri": "https://localhost:8080/"
        },
        "id": "R_Y8VVDQV5jL",
        "outputId": "0394a191-7245-48da-9e47-9ed527ce3d1a"
      },
      "execution_count": 3,
      "outputs": [
        {
          "output_type": "stream",
          "name": "stdout",
          "text": [
            " Digite sua nota do 1° bimestre =8\n",
            " Digite sua nota do 2° bimestre =10\n",
            " Digite sua nota do 3° bimestre =9\n",
            " Digite sua nota do 4° bimestre =5\n",
            "A sua nota média é = 8.0\n"
          ]
        }
      ]
    },
    {
      "cell_type": "code",
      "source": [
        "# transforma o gral celcius para fahrenheit\n",
        "\n",
        "## entrada\n",
        "\n",
        "cel = int(input(' Coloque a temperatura em celcius ='))\n",
        "\n",
        "## processamento (formula de cel para fah)\n",
        "\n",
        "fah = (cel * 1.8) + 32\n",
        "\n",
        "## saída\n",
        "\n",
        "print('O gral celcius em fahrenheit será =', fah)"
      ],
      "metadata": {
        "colab": {
          "base_uri": "https://localhost:8080/"
        },
        "id": "2z73wsd9a2aA",
        "outputId": "c8048b28-c010-4dda-e633-ddda4a86418f"
      },
      "execution_count": 5,
      "outputs": [
        {
          "output_type": "stream",
          "name": "stdout",
          "text": [
            " Coloque a temperatura em celcius =30\n",
            "O gral celcius em fahrenheit será = 86.0\n"
          ]
        }
      ]
    },
    {
      "cell_type": "code",
      "source": [
        "# transformar o gral F° para c°\n",
        "\n",
        "##entrada\n",
        "\n",
        "fah = int(input(' Coloque a temperatura em fahrenheit ='))\n",
        "\n",
        "## prossesamento (formula de cel para fah)\n",
        "\n",
        "cel = (fah - 32) / 1.8\n",
        "\n",
        "## saida\n",
        "\n",
        "print('O gral em celcius sera =', cel)"
      ],
      "metadata": {
        "colab": {
          "base_uri": "https://localhost:8080/"
        },
        "id": "WFzzWuW2dxOb",
        "outputId": "80930bd6-c231-4f08-898c-94b1e9618363"
      },
      "execution_count": 8,
      "outputs": [
        {
          "output_type": "stream",
          "name": "stdout",
          "text": [
            " Coloque a temperatura em fahrenheit =50\n",
            "O gral em celcius sera = 10.0\n"
          ]
        }
      ]
    },
    {
      "cell_type": "code",
      "source": [
        "# quantidades de produtos\n",
        "\n",
        "## entradada do valor\n",
        "\n",
        "val = float(input(' Coloque o valor da coca = '))\n",
        "\n",
        "## entrada da quantidade\n",
        "\n",
        "quan = int(input(' Coloque a quantidade de cocas ='))\n",
        "\n",
        "## conta de razão entre o valor e quantidade (prossesamento)\n",
        "\n",
        "valt = val * quan\n",
        "\n",
        "## saida\n",
        "\n",
        "print(quan,'cocas custam R$', valt)\n"
      ],
      "metadata": {
        "colab": {
          "base_uri": "https://localhost:8080/"
        },
        "id": "gt2mDnqujveg",
        "outputId": "c545900a-fbcd-4606-b39e-252f4ae3c949"
      },
      "execution_count": 11,
      "outputs": [
        {
          "output_type": "stream",
          "name": "stdout",
          "text": [
            " Coloque o valor da coca = 27\n",
            " Coloque a quantidade de cocas =7\n",
            "7 cocas custam R$ 189.0\n"
          ]
        }
      ]
    }
  ]
}