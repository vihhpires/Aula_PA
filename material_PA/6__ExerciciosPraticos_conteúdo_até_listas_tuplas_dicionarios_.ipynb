{
  "nbformat": 4,
  "nbformat_minor": 0,
  "metadata": {
    "kernelspec": {
      "display_name": "Python 3",
      "language": "python",
      "name": "python3"
    },
    "language_info": {
      "codemirror_mode": {
        "name": "ipython",
        "version": 3
      },
      "file_extension": ".py",
      "mimetype": "text/x-python",
      "name": "python",
      "nbconvert_exporter": "python",
      "pygments_lexer": "ipython3",
      "version": "3.8.8"
    },
    "colab": {
      "provenance": [],
      "include_colab_link": true
    }
  },
  "cells": [
    {
      "cell_type": "markdown",
      "metadata": {
        "id": "view-in-github",
        "colab_type": "text"
      },
      "source": [
        "<a href=\"https://colab.research.google.com/github/vihhpires/Aula_PA/blob/main/material_PA/6__ExerciciosPraticos_conte%C3%BAdo_at%C3%A9_listas_tuplas_dicionarios_.ipynb\" target=\"_parent\"><img src=\"https://colab.research.google.com/assets/colab-badge.svg\" alt=\"Open In Colab\"/></a>"
      ]
    },
    {
      "cell_type": "markdown",
      "source": [],
      "metadata": {
        "id": "wZjHNjAIFyLd"
      }
    },
    {
      "cell_type": "markdown",
      "metadata": {
        "id": "DwXKENgwZ-lt"
      },
      "source": [
        "<a href=\"https://colab.research.google.com/github/profcintiapinho/python_basico/blob/main/6__ExerciciosPraticos_conte%C3%BAdo_at%C3%A9_listas_tuplas_dicionarios_.ipynb\" target=\"_parent\"><img src=\"https://colab.research.google.com/assets/colab-badge.svg\" alt=\"Open In Colab\"/></a>"
      ]
    },
    {
      "cell_type": "markdown",
      "metadata": {
        "id": "otAALMRAgVFs"
      },
      "source": [
        "# Exercícios, insira os valores abaixo em variáveis.\n",
        "\n",
        "Nome: Vitoria Moreira Pires\n",
        "\n",
        "Turma: manhã\n",
        "\n",
        "\n",
        "\n"
      ]
    },
    {
      "cell_type": "markdown",
      "metadata": {
        "id": "mtO7KYI4gVGN"
      },
      "source": [
        "### Exercícios com todos os conteúdos aplicados até o momento."
      ]
    },
    {
      "cell_type": "code",
      "metadata": {
        "id": "sNDVkTvxqFeG"
      },
      "source": [
        "# Exercício 1 inserir os seus dados acima em variáveis\n",
        "#Exemplo\n",
        "#nome = \"Márcio Barros\"\n",
        "#Turma = \"Manhã\"\n",
        "#continue.....\n",
        "\n",
        "nome = \"Vitoria Moreira Pires\"\n",
        "Turma = \"Manhã\""
      ],
      "execution_count": 1,
      "outputs": []
    },
    {
      "cell_type": "code",
      "metadata": {
        "id": "9ghrfEWJxiTC",
        "colab": {
          "base_uri": "https://localhost:8080/"
        },
        "outputId": "75c9e428-402a-4c02-9ccb-33b109c9e035"
      },
      "source": [
        "# Exercício 2 -Apos inserir dados acima usando o slicing (exemplo no notebook de manipulação de Strings), imprima na tela apenas seu sobrenome\n",
        "\n",
        "nome = \"Vitoria Moreira Pires\"\n",
        "\n",
        "print(nome[8:])"
      ],
      "execution_count": 4,
      "outputs": [
        {
          "output_type": "stream",
          "name": "stdout",
          "text": [
            "Moreira Pires\n"
          ]
        }
      ]
    },
    {
      "cell_type": "code",
      "metadata": {
        "id": "pw8rY0r9yU9P",
        "colab": {
          "base_uri": "https://localhost:8080/"
        },
        "outputId": "56d4fa7b-bba5-4be1-d3f8-87ab223ca36a"
      },
      "source": [
        "# Exercício 3 -  imprima seu nome de trás pra frente\n",
        "\n",
        "nome = \"Vitoria Moreira Pires\"\n",
        "\n",
        "print(nome[::-1])"
      ],
      "execution_count": 5,
      "outputs": [
        {
          "output_type": "stream",
          "name": "stdout",
          "text": [
            "seriP arieroM airotiV\n"
          ]
        }
      ]
    },
    {
      "cell_type": "code",
      "metadata": {
        "id": "Pa51fT2Pyd-P",
        "colab": {
          "base_uri": "https://localhost:8080/"
        },
        "outputId": "aedb8114-6475-40a3-eb4a-e90988cb7026"
      },
      "source": [
        "# Exercício 4 - pegue a frase abaixo, aplique o split para fazer uma quebra toda vez que encontrar uma \",\"\n",
        "frase = \"Python é a linguagem ideal para o primeiro contato com programação, além da sua sintaxe simples e muito poderosa, Python tem diversas aplicações como: desenvolvimento web, análise de dados, inteligência artificial e automatização de tarefas, neste curso você aprenderá a lógica de programação para conquistar fluência na linguagem, a comunidade Python é a que mais cresce, assim como sua demanda de profissionais no mercado.\"\n",
        "\n",
        "frase.split(',')"
      ],
      "execution_count": 6,
      "outputs": [
        {
          "output_type": "execute_result",
          "data": {
            "text/plain": [
              "['Python é a linguagem ideal para o primeiro contato com programação',\n",
              " ' além da sua sintaxe simples e muito poderosa',\n",
              " ' Python tem diversas aplicações como: desenvolvimento web',\n",
              " ' análise de dados',\n",
              " ' inteligência artificial e automatização de tarefas',\n",
              " ' neste curso você aprenderá a lógica de programação para conquistar fluência na linguagem',\n",
              " ' a comunidade Python é a que mais cresce',\n",
              " ' assim como sua demanda de profissionais no mercado.']"
            ]
          },
          "metadata": {},
          "execution_count": 6
        }
      ]
    },
    {
      "cell_type": "code",
      "metadata": {
        "id": "3zXkJzvOgVGQ",
        "colab": {
          "base_uri": "https://localhost:8080/"
        },
        "outputId": "b2459292-8d10-468f-d3eb-cfbc77074d05"
      },
      "source": [
        "# Exercício 5 -Imprima na tela os números de 1 a 10. Use uma lista para armazenar os números.\n",
        "\n",
        "lista = [1,2,3,4,5,6,7,8,9,10]\n",
        "print(lista)"
      ],
      "execution_count": 7,
      "outputs": [
        {
          "output_type": "stream",
          "name": "stdout",
          "text": [
            "[1, 2, 3, 4, 5, 6, 7, 8, 9, 10]\n"
          ]
        }
      ]
    },
    {
      "cell_type": "code",
      "metadata": {
        "id": "sLiKO51ogVGU",
        "colab": {
          "base_uri": "https://localhost:8080/"
        },
        "outputId": "5fcfdbad-571d-4972-c265-8be1a0a34d86"
      },
      "source": [
        "# Exercício 6 - Crie uma lista de 5 objetos e imprima na tela\n",
        "\n",
        "lista = []\n",
        "\n",
        "lista.append('objeto1')\n",
        "lista.append('objeto2')\n",
        "lista.append('objeto3')\n",
        "lista.append('objeto4')\n",
        "lista.append('objeto5')\n",
        "\n",
        "print(lista)"
      ],
      "execution_count": 8,
      "outputs": [
        {
          "output_type": "stream",
          "name": "stdout",
          "text": [
            "['objeto1', 'objeto2', 'objeto3', 'objeto4', 'objeto5']\n"
          ]
        }
      ]
    },
    {
      "cell_type": "code",
      "metadata": {
        "id": "4Udf3Y1SgVGW",
        "colab": {
          "base_uri": "https://localhost:8080/"
        },
        "outputId": "948d57a9-9965-42cf-876a-f5bd2d31bb57"
      },
      "source": [
        "# Exercício 7 - - Crie duas strings e concatene as duas em uma terceira string\n",
        "\n",
        "string1 = 'Olá'\n",
        "string2 = 'seja bem vindo ao Python'\n",
        "\n",
        "string3 = string1 + \" \" + string2\n",
        "\n",
        "print(string3)"
      ],
      "execution_count": 14,
      "outputs": [
        {
          "output_type": "stream",
          "name": "stdout",
          "text": [
            "Olá seja bem vindo ao Python\n"
          ]
        }
      ]
    },
    {
      "cell_type": "code",
      "metadata": {
        "id": "eibOlpxBgVGZ",
        "colab": {
          "base_uri": "https://localhost:8080/"
        },
        "outputId": "0f19688b-7693-40f7-fda9-04ed7591ae1e"
      },
      "source": [
        "# Exercício 8 - Crie uma tupla com os seguintes elementos: 1, 2, 2, 3, 4, 4, 4, 5 e depois utilize a função count do\n",
        "# objeto tupla para verificar quantas vezes o número 4 aparece na tupla\n",
        "\n",
        "tupla = (1, 2, 2, 3, 4, 4, 4, 5)\n",
        "\n",
        "tupla.count(4)"
      ],
      "execution_count": 19,
      "outputs": [
        {
          "output_type": "execute_result",
          "data": {
            "text/plain": [
              "3"
            ]
          },
          "metadata": {},
          "execution_count": 19
        }
      ]
    },
    {
      "cell_type": "code",
      "metadata": {
        "id": "N68z5JS9gVGe",
        "colab": {
          "base_uri": "https://localhost:8080/"
        },
        "outputId": "04b802a2-b731-41bb-bccf-4ea5cfd91732"
      },
      "source": [
        "# Exercício 9 - Crie um dicionário vazio e imprima na tela\n",
        "\n",
        "dicionario = {}\n",
        "\n",
        "print(dicionario)"
      ],
      "execution_count": 20,
      "outputs": [
        {
          "output_type": "stream",
          "name": "stdout",
          "text": [
            "{}\n"
          ]
        }
      ]
    },
    {
      "cell_type": "code",
      "metadata": {
        "id": "BNR0-SW-gVGg",
        "colab": {
          "base_uri": "https://localhost:8080/"
        },
        "outputId": "7139ff89-2a2a-4a60-98ab-a7e09f9c0344"
      },
      "source": [
        "# Exercício 10 - Crie um dicionário com 3 chaves e 3 valores e imprima na tela\n",
        "\n",
        "Meu_dicionario = {'chave1' : '1', 'chave2' : '2', 'chave3' : '3'}\n",
        "\n",
        "print(Meu_dicionario)"
      ],
      "execution_count": 21,
      "outputs": [
        {
          "output_type": "stream",
          "name": "stdout",
          "text": [
            "{'chave1': '1', 'chave2': '2', 'chave3': '3'}\n"
          ]
        }
      ]
    },
    {
      "cell_type": "code",
      "metadata": {
        "id": "gXIHe2YegVGj",
        "colab": {
          "base_uri": "https://localhost:8080/"
        },
        "outputId": "edb55183-e09e-4bd3-eb36-3afae038d544"
      },
      "source": [
        "# Exercício 11 -\n",
        "\n",
        "Meu_dicionario = {'chave1' : '1', 'chave2' : '2', 'chave3' : '3'}\n",
        "Meu_dicionario['chave4'] = '4'\n",
        "\n",
        "print(Meu_dicionario)"
      ],
      "execution_count": 22,
      "outputs": [
        {
          "output_type": "stream",
          "name": "stdout",
          "text": [
            "{'chave1': '1', 'chave2': '2', 'chave3': '3', 'chave4': '4'}\n"
          ]
        }
      ]
    },
    {
      "cell_type": "code",
      "metadata": {
        "id": "4BgEJNIegVGn",
        "colab": {
          "base_uri": "https://localhost:8080/"
        },
        "outputId": "d727b11b-81fd-4b3d-8c3b-9ba642f38b98"
      },
      "source": [
        "# Exercício 12 - Crie um dicionário com 3 chaves e 3 valores. Um dos valores deve ser uma lista de 2 elementos numéricos.\n",
        "# Imprima o dicionário na tela.\n",
        "\n",
        "Dicionario = {'chave1' : '1', 'chave2' : '2', 'chave3' : [1,2]}\n",
        "\n",
        "print(Dicionario)"
      ],
      "execution_count": 23,
      "outputs": [
        {
          "output_type": "stream",
          "name": "stdout",
          "text": [
            "{'chave1': '1', 'chave2': '2', 'chave3': [1, 2]}\n"
          ]
        }
      ]
    },
    {
      "cell_type": "code",
      "metadata": {
        "id": "5z1toDrtgVGp",
        "colab": {
          "base_uri": "https://localhost:8080/"
        },
        "outputId": "8ec96556-9e25-4c55-9562-58f242c27767"
      },
      "source": [
        "# Exercício 13 - Crie uma lista de 4 elementos. O primeiro elemento deve ser uma string,\n",
        "# o segundo uma tupla de 2 elementos, o terceiro um dcionário com 2 chaves e 2 valores e\n",
        "# o quarto elemento um valor do tipo float.\n",
        "# Imprima a lista na tela.\n",
        "\n",
        "lista = ['vitoria', (1,2), {'chave1' : '1', 'chave2' : '2'}, 3.14]\n",
        "\n",
        "print(lista)"
      ],
      "execution_count": 24,
      "outputs": [
        {
          "output_type": "stream",
          "name": "stdout",
          "text": [
            "['vitoria', (1, 2), {'chave1': '1', 'chave2': '2'}, 3.14]\n"
          ]
        }
      ]
    },
    {
      "cell_type": "code",
      "metadata": {
        "id": "OH0hchIXgVGw",
        "colab": {
          "base_uri": "https://localhost:8080/"
        },
        "outputId": "2778fb34-60ab-427a-badf-0205af6cd54d"
      },
      "source": [
        "# Exercício 14 - Considere a string abaixo. Imprima na tela apenas os caracteres da posição 1 a 18.\n",
        "frase = 'Cientista de Dados é o profissional mais legal do século XXI'\n",
        "\n",
        "print(frase[0:18])"
      ],
      "execution_count": 25,
      "outputs": [
        {
          "output_type": "stream",
          "name": "stdout",
          "text": [
            "Cientista de Dados\n"
          ]
        }
      ]
    },
    {
      "cell_type": "markdown",
      "source": [
        "# Exercícios de Manipulação de Strings"
      ],
      "metadata": {
        "id": "92MnBEkZ-rYd"
      }
    },
    {
      "cell_type": "code",
      "source": [
        "# 1 - Use o método len para imprimir o comprimento da string.\n",
        "x = \"Hello World\"\n",
        "print(len(x))"
      ],
      "metadata": {
        "id": "JA7plTFi-vgW",
        "colab": {
          "base_uri": "https://localhost:8080/"
        },
        "outputId": "908e3822-0bdd-4833-9f7d-6086c26e0359"
      },
      "execution_count": 29,
      "outputs": [
        {
          "output_type": "stream",
          "name": "stdout",
          "text": [
            "11\n"
          ]
        }
      ]
    },
    {
      "cell_type": "code",
      "source": [
        "# 2 - Obtenha o primeiro caractere da string txt.\n",
        "txt = \"Hello World\"\n",
        "x = txt[0]\n",
        "\n",
        "print(x)"
      ],
      "metadata": {
        "id": "20q8uL0H-2DO",
        "colab": {
          "base_uri": "https://localhost:8080/"
        },
        "outputId": "ac99560c-d50c-46ca-f1a0-bb234cf621f8"
      },
      "execution_count": 30,
      "outputs": [
        {
          "output_type": "stream",
          "name": "stdout",
          "text": [
            "H\n"
          ]
        }
      ]
    },
    {
      "cell_type": "code",
      "source": [
        "# 3 - Obtenha os caracteres do índice 2 ao índice 4 ( llo).\n",
        "txt = \"Hello World\"\n",
        "x = txt[2:5]\n",
        "\n",
        "print(x)"
      ],
      "metadata": {
        "id": "xIDhwW91-3tu",
        "colab": {
          "base_uri": "https://localhost:8080/"
        },
        "outputId": "4f955b81-c9e2-4279-961f-1336e0060649"
      },
      "execution_count": 31,
      "outputs": [
        {
          "output_type": "stream",
          "name": "stdout",
          "text": [
            "llo\n"
          ]
        }
      ]
    },
    {
      "cell_type": "code",
      "source": [
        "# 4 - Converta o valor de txt para maiúsculas.\n",
        "txt = \"Hello World\"\n",
        "txt = txt.upper()\n",
        "\n",
        "print(txt)"
      ],
      "metadata": {
        "id": "ytTRVai1-5Zc",
        "colab": {
          "base_uri": "https://localhost:8080/"
        },
        "outputId": "549f67b2-b981-4431-b0da-b6e4d8c813ea"
      },
      "execution_count": 32,
      "outputs": [
        {
          "output_type": "stream",
          "name": "stdout",
          "text": [
            "HELLO WORLD\n"
          ]
        }
      ]
    },
    {
      "cell_type": "code",
      "source": [
        "# - Conte quantas vezes aparece a palavra \"de\" na string abaixo\n",
        "txt = \"Eu gosto de vijar, tomar vinho, de estudar estudar programação, de estudar Pyhon\"\n",
        "\n",
        "x = txt.count('de')\n",
        "\n",
        "print(x)"
      ],
      "metadata": {
        "id": "efIxsQhs-7Tf",
        "colab": {
          "base_uri": "https://localhost:8080/"
        },
        "outputId": "48ce9fee-1dd3-4245-ae90-2e804242aa2f"
      },
      "execution_count": 33,
      "outputs": [
        {
          "output_type": "stream",
          "name": "stdout",
          "text": [
            "3\n"
          ]
        }
      ]
    },
    {
      "cell_type": "code",
      "source": [
        "# - Separe a frase abaixo toda vez que encontrar um vírgula\n",
        "txt = \"Eu gosto de vijar, tomar vinho, de estudar estudar programação, de estudar Pyhon\"\n",
        "\n",
        "txt.split(',')\n",
        "\n",
        "print(txt)"
      ],
      "metadata": {
        "id": "WVS0gAS9-9CM",
        "colab": {
          "base_uri": "https://localhost:8080/"
        },
        "outputId": "d7cb06e1-5840-4910-f6a7-d191349ab3bb"
      },
      "execution_count": 39,
      "outputs": [
        {
          "output_type": "stream",
          "name": "stdout",
          "text": [
            "Eu gosto de vijar, tomar vinho, de estudar estudar programação, de estudar Pyhon\n"
          ]
        }
      ]
    },
    {
      "cell_type": "markdown",
      "metadata": {
        "id": "jKsgA0T3gVGy"
      },
      "source": [
        "# Fim"
      ]
    }
  ]
}