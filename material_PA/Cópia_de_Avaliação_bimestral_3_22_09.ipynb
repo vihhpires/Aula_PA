{
  "nbformat": 4,
  "nbformat_minor": 0,
  "metadata": {
    "colab": {
      "provenance": [],
      "include_colab_link": true
    },
    "kernelspec": {
      "name": "python3",
      "display_name": "Python 3"
    },
    "language_info": {
      "name": "python"
    }
  },
  "cells": [
    {
      "cell_type": "markdown",
      "metadata": {
        "id": "view-in-github",
        "colab_type": "text"
      },
      "source": [
        "<a href=\"https://colab.research.google.com/github/vihhpires/Aula_PA/blob/main/material_PA/C%C3%B3pia_de_Avalia%C3%A7%C3%A3o_bimestral_3_22_09.ipynb\" target=\"_parent\"><img src=\"https://colab.research.google.com/assets/colab-badge.svg\" alt=\"Open In Colab\"/></a>"
      ]
    },
    {
      "cell_type": "markdown",
      "source": [
        "Coloque seu nome aqui: Vitoria Moreira Pires"
      ],
      "metadata": {
        "id": "XpJAZxJGnsjo"
      }
    },
    {
      "cell_type": "markdown",
      "source": [
        "**Atividade Avaliativa **\n",
        "\n",
        "Enunciado:\n",
        "\n",
        "Crie um programa em Python para avaliar uma competição de bandas de música. O programa deve:\n",
        "\n",
        "Perguntar a quantidade de bandas participantes (mínimo 3).\n",
        "\n",
        "Perguntar o nome de cada banda.\n",
        "\n",
        "Para cada banda, receber as notas de 5 jurados (valores de 0 a 10).\n",
        "\n",
        "Calcular a média das notas de cada banda e armazenar o resultado em um dicionário, onde a chave será o nome da banda e o valor será a média das notas.\n",
        "\n",
        "Ao final, mostrar:\n",
        "\n",
        "A média de cada banda.\n",
        "\n",
        "O nome da banda vencedora (a que tiver maior média)."
      ],
      "metadata": {
        "id": "psR_IyuqtxJc"
      }
    },
    {
      "cell_type": "code",
      "source": [
        "# Digite sua resposta\n",
        "def ler_numero_de_bandas():\n",
        "    while True:\n",
        "        try:\n",
        "            qtd = int(input(\"Quantas bandas vão participar? (mínimo 3): \"))\n",
        "            if qtd >= 3:\n",
        "                return qtd\n",
        "            else:\n",
        "                print(\"Por favor, digite pelo menos 3 bandas.\")\n",
        "        except ValueError:\n",
        "            print(\"Entrada inválida. Digite um número inteiro.\")\n",
        "\n",
        "def ler_nome_banda(bandas_existentes):\n",
        "    while True:\n",
        "        nome = input(\"Nome da banda: \").strip()\n",
        "        if not nome:\n",
        "            print(\"O nome não pode estar vazio.\")\n",
        "        elif nome in bandas_existentes:\n",
        "            print(\"Nome já usado. Digite um nome diferente.\")\n",
        "        else:\n",
        "            return nome\n",
        "\n",
        "def ler_notas_banda():\n",
        "    notas = []\n",
        "    for i in range(1, 6):\n",
        "        while True:\n",
        "            try:\n",
        "                nota = float(input(f\"Nota do jurado #{i} (0 a 10): \"))\n",
        "                if 0 <= nota <= 10:\n",
        "                    notas.append(nota)\n",
        "                    break\n",
        "                else:\n",
        "                    print(\"A nota deve estar entre 0 e 10.\")\n",
        "            except ValueError:\n",
        "                print(\"Entrada inválida. Digite um número.\")\n",
        "    return notas\n",
        "\n",
        "def main():\n",
        "    print(\"--- Competição de Bandas ----\\n\")\n",
        "\n",
        "    total_bandas = ler_numero_de_bandas()\n",
        "    bandas = {}\n",
        "\n",
        "    for i in range(total_bandas):\n",
        "        print(f\"\\nCadastro da banda #{i + 1}\")\n",
        "        nome = ler_nome_banda(bandas)\n",
        "        notas = ler_notas_banda()\n",
        "        media = sum(notas) / len(notas)\n",
        "        bandas[nome] = media\n",
        "\n",
        "    print(\"\\n--- Resultado Final ---\")\n",
        "    for nome, media in bandas.items():\n",
        "        print(f\"Banda: {nome} | Média: {media:.2f}\")\n",
        "\n",
        "    # Encontrar a(s) banda(s) com maior média\n",
        "    maior_media = max(bandas.values())\n",
        "    vencedores = [nome for nome, media in bandas.items() if media == maior_media]\n",
        "\n",
        "    if len(vencedores) == 1:\n",
        "        print(f\"\\n Banda vencedora: {vencedores[0]} com média {maior_media:.2f}\")\n",
        "    else:\n",
        "        print(f\"\\n Empate entre as bandas: {', '.join(vencedores)} com média {maior_media:.2f}\")\n",
        "\n",
        "if __name__ == \"__main__\":\n",
        "    main()\n"
      ],
      "metadata": {
        "id": "3v1htaJlrcvG",
        "colab": {
          "base_uri": "https://localhost:8080/"
        },
        "outputId": "795a4f3d-f3e8-48b7-bbe9-251b615252b1"
      },
      "execution_count": 9,
      "outputs": [
        {
          "output_type": "stream",
          "name": "stdout",
          "text": [
            "--- Competição de Bandas ----\n",
            "\n",
            "Quantas bandas vão participar? (mínimo 3): 4\n",
            "\n",
            "Cadastro da banda #1\n",
            "Nome da banda: low low \n",
            "Nota do jurado #1 (0 a 10): 6\n",
            "Nota do jurado #2 (0 a 10): 7\n",
            "Nota do jurado #3 (0 a 10): 7\n",
            "Nota do jurado #4 (0 a 10): 9\n",
            "Nota do jurado #5 (0 a 10): 5\n",
            "\n",
            "Cadastro da banda #2\n",
            "Nome da banda: divas night \n",
            "Nota do jurado #1 (0 a 10): 10\n",
            "Nota do jurado #2 (0 a 10): 10\n",
            "Nota do jurado #3 (0 a 10): 9\n",
            "Nota do jurado #4 (0 a 10): 9\n",
            "Nota do jurado #5 (0 a 10): 8\n",
            "\n",
            "Cadastro da banda #3\n",
            "Nome da banda: big boys\n",
            "Nota do jurado #1 (0 a 10): 8\n",
            "Nota do jurado #2 (0 a 10): 10\n",
            "Nota do jurado #3 (0 a 10): 9\n",
            "Nota do jurado #4 (0 a 10): 10\n",
            "Nota do jurado #5 (0 a 10): 10\n",
            "\n",
            "Cadastro da banda #4\n",
            "Nome da banda: twotwo99\n",
            "Nota do jurado #1 (0 a 10): 10\n",
            "Nota do jurado #2 (0 a 10): 10\n",
            "Nota do jurado #3 (0 a 10): 10\n",
            "Nota do jurado #4 (0 a 10): 9\n",
            "Nota do jurado #5 (0 a 10): 9\n",
            "\n",
            "--- Resultado Final ---\n",
            "Banda: low low | Média: 6.80\n",
            "Banda: divas night | Média: 9.20\n",
            "Banda: big boys | Média: 9.40\n",
            "Banda: twotwo99 | Média: 9.60\n",
            "\n",
            " Banda vencedora: twotwo99 com média 9.60\n"
          ]
        }
      ]
    },
    {
      "cell_type": "markdown",
      "source": [
        "Enunciado:\n",
        "\n",
        "Crie um programa que conte quantas vezes cada palavra aparece em uma frase.\n",
        "\n",
        "Pedir ao usuário para digitar uma frase\n",
        "\n",
        "Imprimir a palavra e quantas vezes ela aparece"
      ],
      "metadata": {
        "id": "fRV1N-Q4G7BK"
      }
    },
    {
      "cell_type": "code",
      "source": [
        "# Digite sua resposta\n",
        "frase = input('Digite uma frase por favor: ')\n",
        "palavras = frase.split()\n",
        "cont = {}\n",
        "for palavra in palavras:\n",
        "  if palavra in cont:\n",
        "    cont[palavra] += 1\n",
        "  else:\n",
        "    cont[palavra] = 1\n",
        "\n",
        "for palavra, contagem in cont.items():\n",
        "    print(f\"A palavra ({palavra}) apareceu na sua frase {contagem} vezes.\")\n"
      ],
      "metadata": {
        "id": "HwK3-mVQHv8j",
        "colab": {
          "base_uri": "https://localhost:8080/"
        },
        "outputId": "824cafa7-3af8-403f-b6f2-38cace87be15"
      },
      "execution_count": 1,
      "outputs": [
        {
          "output_type": "stream",
          "name": "stdout",
          "text": [
            "Digite uma frase por favor: estou muito triste feliz feliz triste com voce esta bem ou muito bem ou mal feliz triste muito?\n",
            "A palavra (estou) apareceu na sua frase 1 vezes.\n",
            "A palavra (muito) apareceu na sua frase 2 vezes.\n",
            "A palavra (triste) apareceu na sua frase 3 vezes.\n",
            "A palavra (feliz) apareceu na sua frase 3 vezes.\n",
            "A palavra (com) apareceu na sua frase 1 vezes.\n",
            "A palavra (voce) apareceu na sua frase 1 vezes.\n",
            "A palavra (esta) apareceu na sua frase 1 vezes.\n",
            "A palavra (bem) apareceu na sua frase 2 vezes.\n",
            "A palavra (ou) apareceu na sua frase 2 vezes.\n",
            "A palavra (mal) apareceu na sua frase 1 vezes.\n",
            "A palavra (muito?) apareceu na sua frase 1 vezes.\n"
          ]
        }
      ]
    },
    {
      "cell_type": "markdown",
      "source": [
        "Enunciado:\n",
        "\n",
        "Crie um programa em python que imprima números pares\n",
        "\n",
        "Pedir o usuário para digitar uma lista com mínimo 10 números\n",
        "\n",
        "Criar uma nova somente com numeros pares\n",
        "\n",
        "Imprimir números pares\n",
        "\n"
      ],
      "metadata": {
        "id": "BKrOSqrOI2T5"
      }
    },
    {
      "cell_type": "code",
      "source": [
        "# Digite sua resposta\n",
        "\n",
        "numeros = input(\"Digite pelo menos 10 números separados por espaço: \").split()\n",
        "\n",
        "while len(numeros) < 10:\n",
        "    print(\"Você precisa digitar pelo menos 10 números.\")\n",
        "    numeros = input(\"Tente novamente: \").split()\n",
        "\n",
        "numeros = [int(n) for n in numeros]\n",
        "pares = [n for n in numeros if n % 2 == 0]\n",
        "\n",
        "print(\"\\nNúmeros pares encontrados:\")\n",
        "print(\" \".join(str(p) for p in pares) if pares else \"Nenhum número par.\")\n"
      ],
      "metadata": {
        "id": "dBf7H6s9MjgZ",
        "colab": {
          "base_uri": "https://localhost:8080/"
        },
        "outputId": "3310227a-3f45-42a6-d584-9636988ca566"
      },
      "execution_count": 7,
      "outputs": [
        {
          "output_type": "stream",
          "name": "stdout",
          "text": [
            "Digite pelo menos 10 números separados por espaço: 7 8 9 10 14 11 8 4 5 12 18\n",
            "\n",
            "Números pares encontrados:\n",
            "8 10 14 8 4 12 18\n"
          ]
        }
      ]
    }
  ]
}