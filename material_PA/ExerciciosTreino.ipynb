{
  "nbformat": 4,
  "nbformat_minor": 0,
  "metadata": {
    "colab": {
      "provenance": [],
      "authorship_tag": "ABX9TyMUz5vruFsru4Fh3SsHm8GM",
      "include_colab_link": true
    },
    "kernelspec": {
      "name": "python3",
      "display_name": "Python 3"
    },
    "language_info": {
      "name": "python"
    }
  },
  "cells": [
    {
      "cell_type": "markdown",
      "metadata": {
        "id": "view-in-github",
        "colab_type": "text"
      },
      "source": [
        "<a href=\"https://colab.research.google.com/github/vihhpires/Aula_PA/blob/main/material_PA/ExerciciosTreino.ipynb\" target=\"_parent\"><img src=\"https://colab.research.google.com/assets/colab-badge.svg\" alt=\"Open In Colab\"/></a>"
      ]
    },
    {
      "cell_type": "markdown",
      "source": [
        "# Treino para Avaliação\n"
      ],
      "metadata": {
        "id": "Yuk5fBnktpJh"
      }
    },
    {
      "cell_type": "markdown",
      "source": [
        "1- Números pares e impares em uma lista:\n",
        "\n",
        "- O usuário digita sequência de números separados po espaço.\n",
        "- O programa transforma em lista de inteiros.\n",
        "- Usando for, deve contar quantos são os pares e quanto são impares."
      ],
      "metadata": {
        "id": "--akCDjotzf_"
      }
    },
    {
      "cell_type": "code",
      "source": [
        "numeros = []\n",
        "counter = 0\n",
        "while counter < 5;\n",
        " num_digitado = int(input(\"Digite um número: \"))\n",
        " numeros.append(num_digitado)\n",
        " counter += 1\n",
        "\n",
        " numeros_pares = []\n",
        " for numero in numeros:\n",
        "   if numero % 2 == 0:\n",
        "     numeros_pares.append(numero)\n",
        "print(f\"Há {(len(numeros_pares))}\" números pares na sequência. )\n",
        "\n",
        " numeros_impares = []\n",
        " for numero in numeros:\n",
        "   if numero % 2 != 0:\n",
        "     numeros_impares.append(numero)\n",
        "print(f\"Há {(len(numeros_impares))}\" números impares na sequência. )"
      ],
      "metadata": {
        "colab": {
          "base_uri": "https://localhost:8080/",
          "height": 106
        },
        "id": "qDkzsRCT6ggK",
        "outputId": "c0b0cf1f-5a8e-455e-8a07-c03042db29ab"
      },
      "execution_count": 6,
      "outputs": [
        {
          "output_type": "error",
          "ename": "SyntaxError",
          "evalue": "invalid syntax (ipython-input-2841192127.py, line 3)",
          "traceback": [
            "\u001b[0;36m  File \u001b[0;32m\"/tmp/ipython-input-2841192127.py\"\u001b[0;36m, line \u001b[0;32m3\u001b[0m\n\u001b[0;31m    while counter < 5;\u001b[0m\n\u001b[0m                     ^\u001b[0m\n\u001b[0;31mSyntaxError\u001b[0m\u001b[0;31m:\u001b[0m invalid syntax\n"
          ]
        }
      ]
    },
    {
      "cell_type": "markdown",
      "source": [
        "2- Adivinhar o Número secreto:\n",
        "\n",
        "- O programa escolhe número secretop (ex: 1 a 20)\n",
        "- O usuário tenta adivinhar\n",
        "- Equanto não acertar, o programa dá dicas (\"Maior\" ou \"Menor\")\n",
        "- Quando acertar, o loop acaba\n",
        "\n",
        "DICA para número aleatório:\n",
        "\n",
        " import random\n",
        "\n",
        " secreto = random.randint(1, 20)\n",
        "\n",
        " tentativa = none"
      ],
      "metadata": {
        "id": "-BiUewIrwNyX"
      }
    },
    {
      "cell_type": "markdown",
      "source": [
        "3- Contar vogais em várias palavras:\n",
        "\n",
        "- O usuário digita uma lista de palavras (separedas por espaço)\n",
        "- O programa deve percorrer cada palavra usando um for\n",
        "- Em cada palavra contar quantas vogais existem\n",
        "- Mostrar no final o total de vogais em cada palavra"
      ],
      "metadata": {
        "id": "C6GonE5T2svQ"
      }
    },
    {
      "cell_type": "code",
      "execution_count": null,
      "metadata": {
        "id": "swxZnQEVtoZg"
      },
      "outputs": [],
      "source": []
    }
  ]
}