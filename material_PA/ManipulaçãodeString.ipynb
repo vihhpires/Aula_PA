{
  "nbformat": 4,
  "nbformat_minor": 0,
  "metadata": {
    "colab": {
      "provenance": [],
      "authorship_tag": "ABX9TyNJNbKaX06wcM928xHlOIZf",
      "include_colab_link": true
    },
    "kernelspec": {
      "name": "python3",
      "display_name": "Python 3"
    },
    "language_info": {
      "name": "python"
    }
  },
  "cells": [
    {
      "cell_type": "markdown",
      "metadata": {
        "id": "view-in-github",
        "colab_type": "text"
      },
      "source": [
        "<a href=\"https://colab.research.google.com/github/vihhpires/Aula_PA/blob/main/material_PA/Manipula%C3%A7%C3%A3odeString.ipynb\" target=\"_parent\"><img src=\"https://colab.research.google.com/assets/colab-badge.svg\" alt=\"Open In Colab\"/></a>"
      ]
    },
    {
      "cell_type": "markdown",
      "source": [
        "## Exercicios"
      ],
      "metadata": {
        "id": "Gm-oXUrxepF9"
      }
    },
    {
      "cell_type": "code",
      "execution_count": 2,
      "metadata": {
        "colab": {
          "base_uri": "https://localhost:8080/"
        },
        "id": "kcOdLkE_edv8",
        "outputId": "6375c5db-1fe5-4cfc-faaa-57d2df6ffd5f"
      },
      "outputs": [
        {
          "output_type": "stream",
          "name": "stdout",
          "text": [
            "O comprimento é de 11\n"
          ]
        }
      ],
      "source": [
        "#  1 - Use o método len para imprimir o comprimento da string.\n",
        "\n",
        "x = 'Hello World'\n",
        "\n",
        "print('O comprimento é de', len(x))"
      ]
    },
    {
      "cell_type": "code",
      "source": [
        "# 2 - Obtenha o primeiro caractere da string txt.\n",
        "\n",
        "txt = 'Hello World'\n",
        "\n",
        "x = txt[0]\n",
        "\n",
        "print(x)"
      ],
      "metadata": {
        "colab": {
          "base_uri": "https://localhost:8080/"
        },
        "id": "DawSrU3mfoXX",
        "outputId": "1a1c4276-db65-449a-8fd1-ecbf58b0e0ed"
      },
      "execution_count": 3,
      "outputs": [
        {
          "output_type": "stream",
          "name": "stdout",
          "text": [
            "H\n"
          ]
        }
      ]
    },
    {
      "cell_type": "code",
      "source": [
        "# 3 - Obtenha os caracteres do índice 2 ao índice 4 ( llo).\n",
        "\n",
        "txt = \"Hello World\"\n",
        "\n",
        "x = txt[2:5]\n",
        "\n",
        "print(x)"
      ],
      "metadata": {
        "colab": {
          "base_uri": "https://localhost:8080/"
        },
        "id": "WS0X8HSVgRQc",
        "outputId": "20895645-ff88-42ba-eae1-386d67a0b3d1"
      },
      "execution_count": 7,
      "outputs": [
        {
          "output_type": "stream",
          "name": "stdout",
          "text": [
            "llo\n"
          ]
        }
      ]
    },
    {
      "cell_type": "code",
      "source": [
        "# 4 - Converta o valor de txt para maiúsculas.\n",
        "\n",
        "txt = \"Hello World\"\n",
        "\n",
        "x = txt.upper()\n",
        "\n",
        "print(x)"
      ],
      "metadata": {
        "colab": {
          "base_uri": "https://localhost:8080/"
        },
        "id": "SwpRzRLtheHe",
        "outputId": "f7a8924e-db5c-41db-b82d-833a921b1cf1"
      },
      "execution_count": 9,
      "outputs": [
        {
          "output_type": "stream",
          "name": "stdout",
          "text": [
            "HELLO WORLD\n"
          ]
        }
      ]
    },
    {
      "cell_type": "code",
      "source": [
        "# 5 - Conte quantas vezes aparece a palavra \"de\" na string abaixo\n",
        "\n",
        "txt = \"Eu gosto de vijar, tomar vinho, de estudar estudar programação, de estudar Pyhon\"\n",
        "\n",
        "x = txt.count('de')\n",
        "\n",
        "print(x)"
      ],
      "metadata": {
        "colab": {
          "base_uri": "https://localhost:8080/"
        },
        "id": "Ww2WOD6YiJ0E",
        "outputId": "851e07f3-0431-4677-ec22-2ab3f16e6fbd"
      },
      "execution_count": 10,
      "outputs": [
        {
          "output_type": "stream",
          "name": "stdout",
          "text": [
            "3\n"
          ]
        }
      ]
    },
    {
      "cell_type": "code",
      "source": [
        "# - Separe a frase abaixo toda vez que encontrar um vírgula\n",
        "\n",
        "txt = \"Eu gosto de vijar, tomar vinho, de estudar estudar programação, de estudar Pyhon\"\n",
        "\n",
        "x = txt.split(',')\n",
        "\n",
        "print(x)"
      ],
      "metadata": {
        "colab": {
          "base_uri": "https://localhost:8080/"
        },
        "id": "CZjY5wegipeU",
        "outputId": "ac9441c8-1015-4b33-97b6-417070d18562"
      },
      "execution_count": 18,
      "outputs": [
        {
          "output_type": "stream",
          "name": "stdout",
          "text": [
            "['Eu gosto de vijar', ' tomar vinho', ' de estudar estudar programação', ' de estudar Pyhon']\n"
          ]
        }
      ]
    },
    {
      "cell_type": "markdown",
      "source": [
        "# Exercicio 02"
      ],
      "metadata": {
        "id": "HbyhCaPIjV3Y"
      }
    },
    {
      "cell_type": "code",
      "source": [
        "# pedir o nome completo\n",
        "name = input('Digite o seu nome completo:')\n",
        "\n",
        "# nome com todas as letras maiusculas\n",
        "print(name.upper())\n",
        "\n",
        "#nome com todas as letras minusculas\n",
        "print(name.lower())\n",
        "\n",
        "# quantas letras tem ao total\n",
        "nm = name.replace(\" \",\"\")\n",
        "print('seu nome completo tem:', len(nm), 'letras.')\n",
        "\n",
        "# contar apenas as letras do 1° nome\n",
        "nm = name.split(\" \")\n",
        "\n",
        "name1 = nm[0]\n",
        "print('seu primeiro nome tem:', len(name1), 'letras.')\n"
      ],
      "metadata": {
        "colab": {
          "base_uri": "https://localhost:8080/"
        },
        "id": "t8mHyvdRjdUH",
        "outputId": "30575865-6e2d-46b6-9022-f1f60b8cb39f"
      },
      "execution_count": 39,
      "outputs": [
        {
          "output_type": "stream",
          "name": "stdout",
          "text": [
            "Digite o seu nome completo:vitoria moreira pires linda \n",
            "VITORIA MOREIRA PIRES LINDA \n",
            "vitoria moreira pires linda \n",
            "seu nome completo tem: 24 letras.\n",
            "seu primeiro nome tem: 7 letras.\n"
          ]
        }
      ]
    },
    {
      "cell_type": "markdown",
      "source": [
        "# Exercicio 03"
      ],
      "metadata": {
        "id": "XGRIP053pxS-"
      }
    },
    {
      "cell_type": "code",
      "source": [
        "string = input('Digite algo: ')\n",
        "vogais = 0\n",
        "\n",
        "for i in string:\n",
        "  if (i == 'a' or i == 'e' or i == 'i' or i == 'o' or i == 'u'):\n",
        "    vogais += 1\n",
        "\n",
        "print('A frase possui', vogais, 'vogais')"
      ],
      "metadata": {
        "colab": {
          "base_uri": "https://localhost:8080/"
        },
        "id": "ui1wHWWupwoh",
        "outputId": "93a9e371-91a0-44e3-aed8-f4cbdddd746e"
      },
      "execution_count": 33,
      "outputs": [
        {
          "output_type": "stream",
          "name": "stdout",
          "text": [
            "Digite algo: vitoria linda\n",
            "A frase possui 6 vogais\n"
          ]
        }
      ]
    }
  ]
}