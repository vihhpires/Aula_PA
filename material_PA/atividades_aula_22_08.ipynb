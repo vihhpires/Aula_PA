{
  "nbformat": 4,
  "nbformat_minor": 0,
  "metadata": {
    "colab": {
      "provenance": [],
      "include_colab_link": true
    },
    "kernelspec": {
      "name": "python3",
      "display_name": "Python 3"
    },
    "language_info": {
      "name": "python"
    }
  },
  "cells": [
    {
      "cell_type": "markdown",
      "metadata": {
        "id": "view-in-github",
        "colab_type": "text"
      },
      "source": [
        "<a href=\"https://colab.research.google.com/github/vihhpires/Aula_PA/blob/main/material_PA/atividades_aula_22_08.ipynb\" target=\"_parent\"><img src=\"https://colab.research.google.com/assets/colab-badge.svg\" alt=\"Open In Colab\"/></a>"
      ]
    },
    {
      "cell_type": "markdown",
      "source": [
        "**Exercícios com for, while, listas, strings e dicionários**"
      ],
      "metadata": {
        "id": "5KtSL9tuj-zo"
      }
    },
    {
      "cell_type": "markdown",
      "source": [
        "1) Soma dos números de uma lista\n",
        "\n",
        "Dada a lista numeros = [3, 7, 2, 8, 10], use um for para calcular a soma de todos os elementos."
      ],
      "metadata": {
        "id": "ZZZicFxfkEEg"
      }
    },
    {
      "cell_type": "code",
      "source": [
        "# 1)\n",
        "\n",
        "nums = [3, 7, 2, 8, 10]\n",
        "soma = 0\n",
        "for num in nums:\n",
        "  soma += num\n",
        "print('A soma é', soma)"
      ],
      "metadata": {
        "colab": {
          "base_uri": "https://localhost:8080/"
        },
        "id": "nDMtuQDeeup-",
        "outputId": "46451110-2795-4919-ef58-bc2fae2b9dbb"
      },
      "execution_count": 1,
      "outputs": [
        {
          "output_type": "stream",
          "name": "stdout",
          "text": [
            "A soma é 30\n"
          ]
        }
      ]
    },
    {
      "cell_type": "markdown",
      "source": [
        "2) Contagem de vogais em uma string\n",
        "\n",
        "Peça uma palavra ao usuário e use um for para contar quantas vogais (a, e, i, o, u) existem."
      ],
      "metadata": {
        "id": "Xw8gph7LkL6R"
      }
    },
    {
      "cell_type": "markdown",
      "source": [],
      "metadata": {
        "id": "irD2xL3xkSDN"
      }
    },
    {
      "cell_type": "code",
      "source": [
        "# 2)\n",
        "\n",
        "palavra = input('Digite uma palavra: ')\n",
        "vogais = ['a', 'e', 'i', 'o', 'u']\n",
        "contador = 0\n",
        "for letra in palavra:\n",
        "  if letra in vogais:\n",
        "    contador += 1\n",
        "\n",
        "    print('A palavra tem', contador, 'vogais')"
      ],
      "metadata": {
        "colab": {
          "base_uri": "https://localhost:8080/"
        },
        "id": "4AGYcZcNh2QR",
        "outputId": "680fecb1-966a-47df-85da-a9dd67e814c1"
      },
      "execution_count": 8,
      "outputs": [
        {
          "output_type": "stream",
          "name": "stdout",
          "text": [
            "Digite uma palavra: vitoria\n",
            "A palavra tem 1 vogais\n",
            "A palavra tem 2 vogais\n",
            "A palavra tem 3 vogais\n",
            "A palavra tem 4 vogais\n"
          ]
        }
      ]
    },
    {
      "cell_type": "markdown",
      "source": [
        "3) Inverter lista usando while\n",
        "\n",
        "Dada a lista nomes = [\"Ana\", \"João\", \"Carlos\", \"Maria\"], use um while para inverter a ordem dos elementos (sem usar reverse() ou slicing)."
      ],
      "metadata": {
        "id": "YfW4Aw8ckZw-"
      }
    },
    {
      "cell_type": "code",
      "source": [
        "# 3)\n",
        "\n",
        "nomes = [\"Ana\", \"João\", \"Carlos\", \"Maria\"]\n",
        "i = len(nomes) - 1\n",
        "while i >= 0:\n",
        "  print(nomes[i])\n",
        "  i -= 1"
      ],
      "metadata": {
        "colab": {
          "base_uri": "https://localhost:8080/"
        },
        "id": "kHIg1KNgj6is",
        "outputId": "4f9f8eb0-00fd-4827-83e8-742138333515"
      },
      "execution_count": 9,
      "outputs": [
        {
          "output_type": "stream",
          "name": "stdout",
          "text": [
            "Maria\n",
            "Carlos\n",
            "João\n",
            "Ana\n"
          ]
        }
      ]
    },
    {
      "cell_type": "markdown",
      "source": [
        "4) Maior número em uma lista\n",
        "\n",
        "Escreva um programa que percorra uma lista de inteiros e encontre o maior valor."
      ],
      "metadata": {
        "id": "cvRuv0PxkkYi"
      }
    },
    {
      "cell_type": "code",
      "source": [
        "# 4)\n",
        "\n",
        "numeros = [15, 7, 2, 8, 39, 10, 45, 68, 1, 88]\n",
        "maior = numeros[0]\n",
        "for num in numeros:\n",
        "  if num > maior:\n",
        "    maior = num\n",
        "print('O maior número é', maior)"
      ],
      "metadata": {
        "colab": {
          "base_uri": "https://localhost:8080/"
        },
        "id": "brZUJvxMkwtE",
        "outputId": "919036ba-187a-415f-d396-24435599906d"
      },
      "execution_count": 10,
      "outputs": [
        {
          "output_type": "stream",
          "name": "stdout",
          "text": [
            "O maior número é 88\n"
          ]
        }
      ]
    },
    {
      "cell_type": "markdown",
      "source": [
        "5) Remover elementos repetidos de uma lista\n",
        "\n",
        "Usando um for, percorra a lista valores = [1, 2, 2, 3, 4, 4, 5] e crie uma nova lista apenas com elementos únicos."
      ],
      "metadata": {
        "id": "xV6pmOVCkuCm"
      }
    },
    {
      "cell_type": "code",
      "source": [
        "# 5)\n",
        "\n",
        "valores = [1, 2, 2, 3, 4, 4, 5]\n",
        "unicos = []\n",
        "for valor in valores:\n",
        "  if valor not in unicos:\n",
        "    unicos.append(valor)\n",
        "print(unicos)"
      ],
      "metadata": {
        "colab": {
          "base_uri": "https://localhost:8080/"
        },
        "id": "1fD09HwQlw0p",
        "outputId": "1f08d9ec-810d-4924-faa0-2c5ee86252d8"
      },
      "execution_count": 11,
      "outputs": [
        {
          "output_type": "stream",
          "name": "stdout",
          "text": [
            "[1, 2, 3, 4, 5]\n"
          ]
        }
      ]
    },
    {
      "cell_type": "markdown",
      "source": [
        "6) Verificar se palavra é palíndromo\n",
        "\n",
        "Peça uma palavra ao usuário e use while ou for para verificar se ela é igual de frente para trás (ex.: \"arara\")."
      ],
      "metadata": {
        "id": "_bHj-pkzk2TX"
      }
    },
    {
      "cell_type": "code",
      "source": [
        "# 6)\n",
        "\n",
        "palavra = input('Digite uma palavra por favor: ')\n",
        "i = len(palavra) - 1\n",
        "palindromo = True\n",
        "for letra in palavra:\n",
        "  if letra != palavra[i]:\n",
        "    palindromo = False\n",
        "  i -= 1\n",
        "\n",
        "if palindromo:\n",
        "  print('A palavra é um palíndromo')\n",
        "else:\n",
        "  print('A palavra não é um palíndromo')\n"
      ],
      "metadata": {
        "colab": {
          "base_uri": "https://localhost:8080/"
        },
        "id": "j8PVamprmDSp",
        "outputId": "a2267f9e-8f28-4b1c-960f-2166d77dce20"
      },
      "execution_count": 17,
      "outputs": [
        {
          "output_type": "stream",
          "name": "stdout",
          "text": [
            "Digite uma palavra por favor: linda\n",
            "A palavra não é um palíndromo\n"
          ]
        }
      ]
    },
    {
      "cell_type": "markdown",
      "source": [
        "7 Contagem regressiva com while\n",
        "\n",
        "Peça ao usuário um número e faça uma contagem regressiva até 0."
      ],
      "metadata": {
        "id": "1PeOPJ3ClC0c"
      }
    },
    {
      "cell_type": "code",
      "source": [
        "# 7)\n",
        "\n",
        "num = int(input('Digite um número da sua preferência: '))\n",
        "while num >= 0:\n",
        "  print(num)\n",
        "  num -= 1"
      ],
      "metadata": {
        "colab": {
          "base_uri": "https://localhost:8080/"
        },
        "id": "_nU7Sa01naW9",
        "outputId": "7d5b2949-520d-4d46-d38a-70472e4415a1"
      },
      "execution_count": 18,
      "outputs": [
        {
          "output_type": "stream",
          "name": "stdout",
          "text": [
            "Digite um número da sua preferência: 19\n",
            "19\n",
            "18\n",
            "17\n",
            "16\n",
            "15\n",
            "14\n",
            "13\n",
            "12\n",
            "11\n",
            "10\n",
            "9\n",
            "8\n",
            "7\n",
            "6\n",
            "5\n",
            "4\n",
            "3\n",
            "2\n",
            "1\n",
            "0\n"
          ]
        }
      ]
    },
    {
      "cell_type": "markdown",
      "source": [
        "8) Percorrendo um dicionário de notas\n",
        "\n",
        "Dado o dicionário notas = {\"Ana\": 8, \"Carlos\": 7, \"Maria\": 10}, use um for para exibir cada aluno com sua nota."
      ],
      "metadata": {
        "id": "wKkDTzwelK_f"
      }
    },
    {
      "cell_type": "code",
      "source": [
        "# 8)\n",
        "\n",
        "notas = {\"Ana\": 8, \"Carlos\": 7, \"Maria\": 10}\n",
        "for aluno in notas:\n",
        "  print(aluno, notas[aluno])"
      ],
      "metadata": {
        "colab": {
          "base_uri": "https://localhost:8080/"
        },
        "id": "q2YE3IH3nyXM",
        "outputId": "802455fc-e109-455b-afb2-4662f7e3fb59"
      },
      "execution_count": 19,
      "outputs": [
        {
          "output_type": "stream",
          "name": "stdout",
          "text": [
            "Ana 8\n",
            "Carlos 7\n",
            "Maria 10\n"
          ]
        }
      ]
    },
    {
      "cell_type": "markdown",
      "source": [
        "9)Filtrar números pares de uma lista\n",
        "\n",
        "Dada a lista numeros = [10, 21, 32, 43, 54], use um for para criar uma nova lista contendo apenas os pares."
      ],
      "metadata": {
        "id": "xrXKbCl7lUQg"
      }
    },
    {
      "cell_type": "code",
      "source": [
        "# 9)\n",
        "\n",
        "nums = [10, 21, 32, 43, 54]\n",
        "pares = []\n",
        "for num in nums:\n",
        "  if num % 2 == 0:\n",
        "    pares.append(num)\n",
        "print(pares)"
      ],
      "metadata": {
        "colab": {
          "base_uri": "https://localhost:8080/"
        },
        "id": "mLCO4QcooAUf",
        "outputId": "743056f8-81b4-4737-9d9b-7ad4d041508c"
      },
      "execution_count": 20,
      "outputs": [
        {
          "output_type": "stream",
          "name": "stdout",
          "text": [
            "[10, 32, 54]\n"
          ]
        }
      ]
    },
    {
      "cell_type": "markdown",
      "source": [
        "10) Contador de palavras em uma frase\n",
        "\n",
        "Peça ao usuário uma frase, divida em palavras (split()) e use um dicionário para contar quantas vezes cada palavra aparece."
      ],
      "metadata": {
        "id": "9pzoi0GxlcO8"
      }
    },
    {
      "cell_type": "code",
      "source": [
        "# 10)\n",
        "\n",
        "frase = input('Digite uma frase por favor: ')\n",
        "palavras = frase.split()\n",
        "contador = {}\n",
        "for palavra in palavras:\n",
        "  if palavra in contador:\n",
        "    contador[palavra] += 1\n",
        "  else:\n",
        "    contador[palavra] = 1\n",
        "\n",
        "for palavra, contagem in contador.items():\n",
        "    print(f\"A palavra '{palavra}' aparece {contagem} vezes.\")\n"
      ],
      "metadata": {
        "colab": {
          "base_uri": "https://localhost:8080/"
        },
        "id": "17TpV02SoO5B",
        "outputId": "4fc01d26-ce43-48a3-f05a-a77e3e5185f8"
      },
      "execution_count": 23,
      "outputs": [
        {
          "output_type": "stream",
          "name": "stdout",
          "text": [
            "Digite uma frase por favor: espero que voce esteja bem assim como eu, estou com saudades de voce beijos beijos beijos \n",
            "A palavra 'espero' aparece 1 vezes.\n",
            "A palavra 'que' aparece 1 vezes.\n",
            "A palavra 'voce' aparece 2 vezes.\n",
            "A palavra 'esteja' aparece 1 vezes.\n",
            "A palavra 'bem' aparece 1 vezes.\n",
            "A palavra 'assim' aparece 1 vezes.\n",
            "A palavra 'como' aparece 1 vezes.\n",
            "A palavra 'eu,' aparece 1 vezes.\n",
            "A palavra 'estou' aparece 1 vezes.\n",
            "A palavra 'com' aparece 1 vezes.\n",
            "A palavra 'saudades' aparece 1 vezes.\n",
            "A palavra 'de' aparece 1 vezes.\n",
            "A palavra 'beijos' aparece 3 vezes.\n"
          ]
        }
      ]
    }
  ]
}