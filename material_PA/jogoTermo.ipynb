{
  "nbformat": 4,
  "nbformat_minor": 0,
  "metadata": {
    "colab": {
      "provenance": [],
      "authorship_tag": "ABX9TyOXhjU+1jbzNaKmMpt0wn3D",
      "include_colab_link": true
    },
    "kernelspec": {
      "name": "python3",
      "display_name": "Python 3"
    },
    "language_info": {
      "name": "python"
    }
  },
  "cells": [
    {
      "cell_type": "markdown",
      "metadata": {
        "id": "view-in-github",
        "colab_type": "text"
      },
      "source": [
        "<a href=\"https://colab.research.google.com/github/vihhpires/Aula_PA/blob/main/material_PA/jogoTermo.ipynb\" target=\"_parent\"><img src=\"https://colab.research.google.com/assets/colab-badge.svg\" alt=\"Open In Colab\"/></a>"
      ]
    },
    {
      "cell_type": "code",
      "execution_count": 3,
      "metadata": {
        "colab": {
          "base_uri": "https://localhost:8080/"
        },
        "id": "snC8CTY9u356",
        "outputId": "ed824d55-3e73-4e3d-f903-35851a586f8d"
      },
      "outputs": [
        {
          "output_type": "stream",
          "name": "stdout",
          "text": [
            "Jogo Termo: tente adivinhar a palavra de 5 letras. Você tem 6 tentativas.\n",
            "\n",
            "Digite sua palavra (6 tentativas restantes): vidro\n",
            "⬜🟨🟨⬜🟨\n",
            "\n",
            "Digite sua palavra (5 tentativas restantes): venci\n",
            "⬜⬜⬜⬜🟨\n",
            "\n",
            "Digite sua palavra (4 tentativas restantes): vento\n",
            "⬜⬜⬜⬜🟨\n",
            "\n",
            "Digite sua palavra (3 tentativas restantes): doida\n",
            "Parabéns! Você acertou a palavra!\n"
          ]
        }
      ],
      "source": [
        "import random\n",
        "\n",
        "palavras = ['carta', 'bravo', 'festa', 'amigo', 'solar', 'vento', 'praia', 'fruta', 'doida', 'tarde']\n",
        "\n",
        "palavra_secreta = random.choice(palavras)\n",
        "\n",
        "tentativas = 6\n",
        "print(\"Jogo Termo: tente adivinhar a palavra de 5 letras. Você tem 6 tentativas.\")\n",
        "\n",
        "while tentativas > 0:\n",
        "    chute = input(f\"\\nDigite sua palavra ({tentativas} tentativas restantes): \").lower()\n",
        "\n",
        "    if len(chute) != 5:\n",
        "        print(\"A palavra deve ter exatamente 5 letras. Tente novamente.\")\n",
        "        continue\n",
        "\n",
        "    if chute == palavra_secreta:\n",
        "        print(\"Parabéns! Você acertou a palavra!\")\n",
        "        break\n",
        "\n",
        "    resultado = ''\n",
        "    for i in range(5):\n",
        "        if chute[i] == palavra_secreta[i]:\n",
        "\n",
        "            resultado += '🟩'\n",
        "        elif chute[i] in palavra_secreta:\n",
        "\n",
        "            resultado += '🟨'\n",
        "        else:\n",
        "\n",
        "            resultado += '⬜'\n",
        "\n",
        "    print(resultado)\n",
        "    tentativas -= 1\n",
        "\n",
        "if tentativas == 0 and chute != palavra_secreta:\n",
        "    print(f\"Suas tentativas acabaram. A palavra correta era: {palavra_secreta}\")\n"
      ]
    }
  ]
}