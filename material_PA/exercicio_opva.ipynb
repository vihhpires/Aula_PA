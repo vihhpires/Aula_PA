{
  "nbformat": 4,
  "nbformat_minor": 0,
  "metadata": {
    "colab": {
      "provenance": [],
      "authorship_tag": "ABX9TyMXs0xU9xWLQufOzwIIlALf",
      "include_colab_link": true
    },
    "kernelspec": {
      "name": "python3",
      "display_name": "Python 3"
    },
    "language_info": {
      "name": "python"
    }
  },
  "cells": [
    {
      "cell_type": "markdown",
      "metadata": {
        "id": "view-in-github",
        "colab_type": "text"
      },
      "source": [
        "<a href=\"https://colab.research.google.com/github/vihhpires/Aula_PA/blob/main/material_PA/exercicio_opva.ipynb\" target=\"_parent\"><img src=\"https://colab.research.google.com/assets/colab-badge.svg\" alt=\"Open In Colab\"/></a>"
      ]
    },
    {
      "cell_type": "markdown",
      "source": [
        "# EXERCÍCIO"
      ],
      "metadata": {
        "id": "7zIZrX2i_Cp0"
      }
    },
    {
      "cell_type": "markdown",
      "source": [
        "CRIAR 2 VARIAVEIS\n",
        "\n",
        "ENTRADA\n",
        "NUM 1\n",
        "NUM 2\n",
        "\n",
        "PROCESSAMENTO\n",
        "\n",
        "SOMA = NUM 1 + NUM 2\n",
        "\n",
        "SAIDA"
      ],
      "metadata": {
        "id": "pnsL1nYg_N8s"
      }
    },
    {
      "cell_type": "code",
      "source": [
        "# ENTRADA\n",
        "\n",
        "num1 = float(input('digite um numero'))\n",
        "num2 = float(input('digite um numero'))\n",
        "\n",
        "# processamento\n",
        "\n",
        "soma = num1 + num2\n",
        "\n",
        "# saida\n",
        "\n",
        "print(' O resultado é =', soma)"
      ],
      "metadata": {
        "colab": {
          "base_uri": "https://localhost:8080/"
        },
        "id": "sdO-RB0M_qSi",
        "outputId": "29626453-8999-44b9-e657-59e85fc81d03"
      },
      "execution_count": 1,
      "outputs": [
        {
          "output_type": "stream",
          "name": "stdout",
          "text": [
            "digite um numero9\n",
            "digite um numero6\n",
            " O resultado é = 15.0\n"
          ]
        }
      ]
    },
    {
      "cell_type": "code",
      "source": [
        "num1 = float(input('digite um numero da sua preferencia'))\n",
        "num2 = float(input('digite um numero da sua preferencia'))\n",
        "\n",
        "soma = num1 - num2\n",
        "\n",
        "print('A soma dara = ',soma)"
      ],
      "metadata": {
        "colab": {
          "base_uri": "https://localhost:8080/"
        },
        "id": "zEtDR-x7ApMi",
        "outputId": "b47c1a99-95f9-4faf-d1b1-eded0b93fa6a"
      },
      "execution_count": 2,
      "outputs": [
        {
          "output_type": "stream",
          "name": "stdout",
          "text": [
            "digite um numero da sua preferencia6\n",
            "digite um numero da sua preferencia7\n",
            "A soma dara =  -1.0\n"
          ]
        }
      ]
    },
    {
      "cell_type": "code",
      "source": [
        "num1 = float(input('digite um numero'))\n",
        "num2 = float(input('digite um numero'))\n",
        "\n",
        "soma = num1 * num2\n",
        "\n",
        "print('o resultado sera =', soma)"
      ],
      "metadata": {
        "colab": {
          "base_uri": "https://localhost:8080/"
        },
        "id": "t8G94fr2BVHJ",
        "outputId": "e0c2ec9b-771c-4072-9a43-52de2d82c854"
      },
      "execution_count": 3,
      "outputs": [
        {
          "output_type": "stream",
          "name": "stdout",
          "text": [
            "digite um numero8\n",
            "digite um numero124\n",
            "o resultado sera = 992.0\n"
          ]
        }
      ]
    },
    {
      "cell_type": "code",
      "source": [
        "num1 = float(input('digite um numero'))\n",
        "num2 = float(input('digite um numero'))\n",
        "\n",
        "soma = num1 / num2\n",
        "\n",
        "print('o resultado é =',soma)"
      ],
      "metadata": {
        "colab": {
          "base_uri": "https://localhost:8080/"
        },
        "id": "TC7ddZzjCNm-",
        "outputId": "30fa8cbc-453f-4d95-c51e-09b38418b325"
      },
      "execution_count": 4,
      "outputs": [
        {
          "output_type": "stream",
          "name": "stdout",
          "text": [
            "digite um numero12\n",
            "digite um numero20\n",
            "o resultado é = 0.6\n"
          ]
        }
      ]
    }
  ]
}