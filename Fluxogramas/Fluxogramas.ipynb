{
  "nbformat": 4,
  "nbformat_minor": 0,
  "metadata": {
    "colab": {
      "provenance": [],
      "authorship_tag": "ABX9TyObuOJPnp19ibHlpUem+CXJ",
      "include_colab_link": true
    },
    "kernelspec": {
      "name": "python3",
      "display_name": "Python 3"
    },
    "language_info": {
      "name": "python"
    }
  },
  "cells": [
    {
      "cell_type": "markdown",
      "metadata": {
        "id": "view-in-github",
        "colab_type": "text"
      },
      "source": [
        "<a href=\"https://colab.research.google.com/github/vihhpires/Aula_PA/blob/main/Fluxogramas/Fluxogramas.ipynb\" target=\"_parent\"><img src=\"https://colab.research.google.com/assets/colab-badge.svg\" alt=\"Open In Colab\"/></a>"
      ]
    },
    {
      "cell_type": "markdown",
      "source": [
        "# Cálculo de Média"
      ],
      "metadata": {
        "id": "z1utLHRru5OL"
      }
    },
    {
      "cell_type": "code",
      "execution_count": 1,
      "metadata": {
        "colab": {
          "base_uri": "https://localhost:8080/"
        },
        "id": "e776jwdYeeZ_",
        "outputId": "cc4ba412-89b9-4e61-8c28-ab8f6be9e216"
      },
      "outputs": [
        {
          "output_type": "stream",
          "name": "stdout",
          "text": [
            "Digite a nota da sua primeira prova:9\n",
            "Digite a nota da sua segunda prova:5\n",
            "a média é: 7.0\n"
          ]
        }
      ],
      "source": [
        "# Recebe as notas das provas\n",
        "nota1 = float(input('Digite a nota da sua primeira prova:'))\n",
        "nota2 = float(input('Digite a nota da sua segunda prova:'))\n",
        "\n",
        "#Calculo da média\n",
        "med = (nota1 + nota2)/2\n",
        "\n",
        "#Resultado\n",
        "print('a média é:', med)"
      ]
    },
    {
      "cell_type": "markdown",
      "source": [
        "# Conversão de moeda"
      ],
      "metadata": {
        "id": "C-WeffaRvBLx"
      }
    },
    {
      "cell_type": "code",
      "source": [
        "#Receber a cotação do dólar e valor em reias\n",
        "cotacao_dolar = float(input('Digite a cotação do atual do dólar:'))\n",
        "valor_reais = float(input('Digie o valor em reais:'))\n",
        "\n",
        "#Conversão\n",
        "valor_dólar = valor_reais / cotacao_dolar\n",
        "\n",
        "#Resultado\n",
        "print('O valor em doláres é:', valor_dólar)"
      ],
      "metadata": {
        "colab": {
          "base_uri": "https://localhost:8080/"
        },
        "id": "KQemoHasuzvY",
        "outputId": "ed5d5590-be45-4357-ad21-e376f61bb157"
      },
      "execution_count": 3,
      "outputs": [
        {
          "output_type": "stream",
          "name": "stdout",
          "text": [
            "Digite a cotação do atual do dólar:5.71\n",
            "Digie o valor em reais:650\n",
            "O valor em doláres é: 113.8353765323993\n"
          ]
        }
      ]
    },
    {
      "cell_type": "markdown",
      "source": [
        "## Cálculo de Comissão"
      ],
      "metadata": {
        "id": "gCjBVdwDw0AZ"
      }
    },
    {
      "cell_type": "code",
      "source": [
        "#Recebe o preço unitário e a quantidade vendida\n",
        "preco_unitario = float(input('Digite o preço unitário da peça:'))\n",
        "quantidade_vendida = int(input('Digite a quantidade vendida:'))\n",
        "\n",
        "#calculo do valor total da venda e a comissão\n",
        "valor_total_venda = preco_unitario * quantidade_vendida\n",
        "comissao = valor_total_venda * 0.05\n",
        "\n",
        "#resultado\n",
        "print('Valor total da venda: R$', valor_total_venda)\n",
        "print('Comissão do vendedor: R$', comissao)\n"
      ],
      "metadata": {
        "colab": {
          "base_uri": "https://localhost:8080/"
        },
        "id": "NsLDLaSkwy76",
        "outputId": "75160154-ab87-4d3d-b482-bed5f2915c08"
      },
      "execution_count": 4,
      "outputs": [
        {
          "output_type": "stream",
          "name": "stdout",
          "text": [
            "Digite o preço unitário da peça:60\n",
            "Digite a quantidade vendida:90\n",
            "Valor total da venda: R$ 5400.0\n",
            "Comissão do vendedor: R$ 270.0\n"
          ]
        }
      ]
    }
  ]
}