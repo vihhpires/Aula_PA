{
  "nbformat": 4,
  "nbformat_minor": 0,
  "metadata": {
    "colab": {
      "provenance": [],
      "authorship_tag": "ABX9TyPA8Dse5fLQsYM+LtaKjvzx",
      "include_colab_link": true
    },
    "kernelspec": {
      "name": "python3",
      "display_name": "Python 3"
    },
    "language_info": {
      "name": "python"
    }
  },
  "cells": [
    {
      "cell_type": "markdown",
      "metadata": {
        "id": "view-in-github",
        "colab_type": "text"
      },
      "source": [
        "<a href=\"https://colab.research.google.com/github/vihhpires/Aula_PA/blob/main/Fluxogramas/Exercicosfluxo.ipynb\" target=\"_parent\"><img src=\"https://colab.research.google.com/assets/colab-badge.svg\" alt=\"Open In Colab\"/></a>"
      ]
    },
    {
      "cell_type": "markdown",
      "source": [
        "# Exercício 01"
      ],
      "metadata": {
        "id": "T--o0aZVL6Pz"
      }
    },
    {
      "cell_type": "code",
      "execution_count": 14,
      "metadata": {
        "colab": {
          "base_uri": "https://localhost:8080/"
        },
        "id": "bf8uenP53JGT",
        "outputId": "61c7a567-ac81-4e3c-bb93-8865d7f4e282"
      },
      "outputs": [
        {
          "output_type": "stream",
          "name": "stdout",
          "text": [
            "O valor do carro para os consumidores será: R$ 46400.0\n"
          ]
        }
      ],
      "source": [
        "#entrada do valor inicial do carro\n",
        "valorcarro = 25000.00\n",
        "\n",
        "#processamento com o adicional dos juros\n",
        "imposto = (valorcarro *45/100) + valorcarro\n",
        "impostodistri = (imposto *28/100) + imposto\n",
        "valor_final = impostodistri\n",
        "\n",
        "\n",
        "#saida\n",
        "\n",
        "print('O valor do carro para os consumidores será: R$', valor_final)\n",
        "\n"
      ]
    },
    {
      "cell_type": "markdown",
      "source": [
        "# Exercício 02"
      ],
      "metadata": {
        "id": "UgJgvtOXP0tJ"
      }
    },
    {
      "cell_type": "code",
      "source": [
        "# entradas da hora e minutos\n",
        "hora = int(input('Digite a hora:'))\n",
        "minutos = int(input('Digite os minutos'))\n",
        "\n",
        "#processamento de horas e minutos para segundos\n",
        "min_seg = minutos/60\n",
        "segundos = hora + min_seg\n",
        "\n",
        "#saida\n",
        "\n",
        "print('O tempo em segundos será: ', segundos)"
      ],
      "metadata": {
        "colab": {
          "base_uri": "https://localhost:8080/"
        },
        "id": "tfUEUg0qPz05",
        "outputId": "cd197c79-56e8-4fd5-cdae-98c86e7637d9"
      },
      "execution_count": 9,
      "outputs": [
        {
          "output_type": "stream",
          "name": "stdout",
          "text": [
            "Digite a hora:6\n",
            "Digite os minutos45\n",
            "O tempo em segundos será:  6.75\n"
          ]
        }
      ]
    },
    {
      "cell_type": "markdown",
      "source": [
        "# Exercício 03"
      ],
      "metadata": {
        "id": "W2rq1IxmTKPf"
      }
    },
    {
      "cell_type": "code",
      "source": [
        "#entrada dos horários e ganho\n",
        "trab_hora = float(input('Digite quantas horas ja trabalho: '))\n",
        "trab_min = float(input('Digite quantos minutos ja trabalho:'))\n",
        "ganho_hora = float(input('Digite quanto você ganha por hora: '))\n",
        "\n",
        "#processamento de horas para decimal e salário\n",
        "min_dec = trab_min/60\n",
        "decimal = trab_hora + min_dec\n",
        "\n",
        "salario = (decimal * ganho_hora)\n",
        "horaextra = (salario *70/100) + salario\n",
        "\n",
        "salario_final = salario + horaextra\n",
        "\n",
        "#saida\n",
        "\n",
        "print('O seu salário é de:', salario, 'reais e com a adição da sua hora extra fica:', horaextra, 'reais')"
      ],
      "metadata": {
        "colab": {
          "base_uri": "https://localhost:8080/"
        },
        "id": "FHMUam3MTJYC",
        "outputId": "bde5331d-0d18-43ee-f465-b72f6ecb13fb"
      },
      "execution_count": 12,
      "outputs": [
        {
          "output_type": "stream",
          "name": "stdout",
          "text": [
            "Digite quantas horas ja trabalho: 15\n",
            "Digite quantos minutos ja trabalho:45\n",
            "Digite quanto você ganha por hora: 25\n",
            "O seu salário é de: 393.75 reais e com a adição da sua hora extra fica: 669.375 reais\n"
          ]
        }
      ]
    }
  ]
}