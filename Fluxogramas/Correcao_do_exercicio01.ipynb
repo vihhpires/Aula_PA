{
  "nbformat": 4,
  "nbformat_minor": 0,
  "metadata": {
    "colab": {
      "provenance": [],
      "authorship_tag": "ABX9TyMyx0+V2fli5Efx2u5RVyLe",
      "include_colab_link": true
    },
    "kernelspec": {
      "name": "python3",
      "display_name": "Python 3"
    },
    "language_info": {
      "name": "python"
    }
  },
  "cells": [
    {
      "cell_type": "markdown",
      "metadata": {
        "id": "view-in-github",
        "colab_type": "text"
      },
      "source": [
        "<a href=\"https://colab.research.google.com/github/vihhpires/Aula_PA/blob/main/Fluxogramas/Correcao_do_exercicio01.ipynb\" target=\"_parent\"><img src=\"https://colab.research.google.com/assets/colab-badge.svg\" alt=\"Open In Colab\"/></a>"
      ]
    },
    {
      "cell_type": "code",
      "execution_count": 4,
      "metadata": {
        "id": "4TVkg51-_tNy",
        "colab": {
          "base_uri": "https://localhost:8080/"
        },
        "outputId": "c966c434-338b-4505-8a6a-69b3ca7abdaa"
      },
      "outputs": [
        {
          "output_type": "stream",
          "name": "stdout",
          "text": [
            "Digite o valor de custo do carro:25000\n",
            "O valor do custo ao consumidor é R$ 46400.0\n"
          ]
        }
      ],
      "source": [
        "#Entrada\n",
        "\n",
        "custo_Fab = float(input('Digite o valor de custo do carro:'))\n",
        "\n",
        "#Processamento\n",
        "\n",
        "vlr_fab_imposto = (custo_Fab *45/100) + custo_Fab\n",
        "\n",
        "vlr_distrib = (vlr_fab_imposto * 28/100) + vlr_fab_imposto\n",
        "\n",
        "#Saida\n",
        "\n",
        "print ('O valor do custo ao consumidor é R$', vlr_distrib)"
      ]
    }
  ]
}