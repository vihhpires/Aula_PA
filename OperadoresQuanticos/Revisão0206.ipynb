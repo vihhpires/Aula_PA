{
  "nbformat": 4,
  "nbformat_minor": 0,
  "metadata": {
    "colab": {
      "provenance": [],
      "authorship_tag": "ABX9TyMz8rrPqWqz/OUVz205Tvmc",
      "include_colab_link": true
    },
    "kernelspec": {
      "name": "python3",
      "display_name": "Python 3"
    },
    "language_info": {
      "name": "python"
    }
  },
  "cells": [
    {
      "cell_type": "markdown",
      "metadata": {
        "id": "view-in-github",
        "colab_type": "text"
      },
      "source": [
        "<a href=\"https://colab.research.google.com/github/vihhpires/Aula_PA/blob/main/OperadoresQuanticos/Revis%C3%A3o0206.ipynb\" target=\"_parent\"><img src=\"https://colab.research.google.com/assets/colab-badge.svg\" alt=\"Open In Colab\"/></a>"
      ]
    },
    {
      "cell_type": "markdown",
      "source": [
        "# Número Possitivo e Negativo"
      ],
      "metadata": {
        "id": "q_enHYK1Liaj"
      }
    },
    {
      "cell_type": "code",
      "execution_count": 5,
      "metadata": {
        "colab": {
          "base_uri": "https://localhost:8080/"
        },
        "id": "MqDMVZIlLZfh",
        "outputId": "5ed5dd44-9b91-4c38-8c21-550fb393e565"
      },
      "outputs": [
        {
          "output_type": "stream",
          "name": "stdout",
          "text": [
            "Digite um Número da sua preferencia:-33\n",
            "Esse número é negativo\n"
          ]
        }
      ],
      "source": [
        "\n",
        "num = int(input('Digite um Número da sua preferencia:'))\n",
        "\n",
        "if num >= 0:\n",
        "    print('Esse número é positivo')\n",
        "else:\n",
        "    print('Esse número é negativo')"
      ]
    },
    {
      "cell_type": "markdown",
      "source": [
        "# Par ou Ímpar"
      ],
      "metadata": {
        "id": "b_ww1azQMrA6"
      }
    },
    {
      "cell_type": "code",
      "source": [
        "valor = int(input('Digite um numero:'))\n",
        "\n",
        "if valor % 2 == 0:\n",
        "    print('O numero', valor,'é Par')\n",
        "\n",
        "else:\n",
        "    print('O numero', valor,'é Impar')"
      ],
      "metadata": {
        "colab": {
          "base_uri": "https://localhost:8080/"
        },
        "id": "WAq9e2o4MsMJ",
        "outputId": "3f7c8544-1147-4bc7-ca07-5b6d3cba3bee"
      },
      "execution_count": 7,
      "outputs": [
        {
          "output_type": "stream",
          "name": "stdout",
          "text": [
            "Digite um numero:4\n",
            "O numero 4 é Par\n"
          ]
        }
      ]
    },
    {
      "cell_type": "markdown",
      "source": [
        "# Verificar se é 18+"
      ],
      "metadata": {
        "id": "SKrJLbXvM_hO"
      }
    },
    {
      "cell_type": "code",
      "source": [
        "id = int(input('Digite a sua idade:'))\n",
        "\n",
        "if id >= 18:\n",
        "  print('Você é maior de idade.')\n",
        "\n",
        "else:\n",
        "  print('Você é menor de idade.')"
      ],
      "metadata": {
        "colab": {
          "base_uri": "https://localhost:8080/"
        },
        "id": "GLoQzjdhNACm",
        "outputId": "4f4f5eaa-d8e9-44ce-c925-52962a5f8f76"
      },
      "execution_count": 9,
      "outputs": [
        {
          "output_type": "stream",
          "name": "stdout",
          "text": [
            "Digite a sua idade:45\n",
            "Você é maior de idade.\n"
          ]
        }
      ]
    },
    {
      "cell_type": "markdown",
      "source": [
        "# Senha Correta"
      ],
      "metadata": {
        "id": "pO0GDHaWNutA"
      }
    },
    {
      "cell_type": "code",
      "source": [
        "sen = int(input('Digite a sua senha:'))\n",
        "\n",
        "if sen == 1234:\n",
        "  print('A senha está correta!')\n",
        "\n",
        "else:\n",
        "  print('A senha está incorreta!')"
      ],
      "metadata": {
        "colab": {
          "base_uri": "https://localhost:8080/"
        },
        "id": "Htro_PNDNvoQ",
        "outputId": "af5e2f2c-9a99-454f-f8be-7e69c6ba1fb4"
      },
      "execution_count": 13,
      "outputs": [
        {
          "output_type": "stream",
          "name": "stdout",
          "text": [
            "Digite a sua senha:1234\n",
            "A senha está correta!\n"
          ]
        }
      ]
    },
    {
      "cell_type": "markdown",
      "source": [
        "# Nota e Aprovação"
      ],
      "metadata": {
        "id": "HXAsoajUOpuk"
      }
    },
    {
      "cell_type": "code",
      "source": [
        "nota = int(input('Digite a sua nota:'))\n",
        "\n",
        "if 6 <= nota <= 10:\n",
        "  print('Você foi aprovado!')\n",
        "\n",
        "else:\n",
        "  print('Você foi reprovado!')"
      ],
      "metadata": {
        "colab": {
          "base_uri": "https://localhost:8080/"
        },
        "id": "goRofDq4OqPz",
        "outputId": "693a1b97-e913-431c-97fc-25f4a3b3c5ab"
      },
      "execution_count": 16,
      "outputs": [
        {
          "output_type": "stream",
          "name": "stdout",
          "text": [
            "Digite a sua nota:9\n",
            "Você foi aprovado!\n"
          ]
        }
      ]
    },
    {
      "cell_type": "markdown",
      "source": [
        "# Multiplo de 3 e/ou 5"
      ],
      "metadata": {
        "id": "XifpaJRDPKbo"
      }
    },
    {
      "cell_type": "code",
      "source": [
        "num = int(input('Digite um numero:'))\n",
        "\n",
        "if num % 3 == 0:\n",
        "  print('Esse numero é multiplo de 3.')\n",
        "\n",
        "elif num % 5 == 0:\n",
        "  print('Esse numero é multiplo de 5.')\n",
        "\n",
        "  if num % 3 == 0 and num % 5 == 0:\n",
        "    print('Esse numero é multiplo de 3 e 5.')\n",
        "\n",
        "else:\n",
        "  print('Esse numero não é multiplo de 3 ou 5')\n"
      ],
      "metadata": {
        "colab": {
          "base_uri": "https://localhost:8080/"
        },
        "id": "fgN0pgVQPK4d",
        "outputId": "c2e8cd3e-6ec1-4d1d-9d59-31e0f513f969"
      },
      "execution_count": 23,
      "outputs": [
        {
          "output_type": "stream",
          "name": "stdout",
          "text": [
            "Digite um numero:2\n",
            "Esse numero não é multiplo de 3 ou 5\n"
          ]
        }
      ]
    },
    {
      "cell_type": "markdown",
      "source": [
        "# Número dentro do intervalo"
      ],
      "metadata": {
        "id": "hACShrAlQUpg"
      }
    },
    {
      "cell_type": "code",
      "source": [
        "num = int(input('Digite um numero:'))\n",
        "\n",
        "if num >= 10 and num <= 20:\n",
        "  print('Esse numero está dentro do intervalo!')\n",
        "\n",
        "else:\n",
        "  print('Esse numero não está dentro do intervalo!')\n",
        "\n"
      ],
      "metadata": {
        "colab": {
          "base_uri": "https://localhost:8080/"
        },
        "id": "zWnCsFMoQVLX",
        "outputId": "7f696921-704d-4945-f1ba-73f983a575ab"
      },
      "execution_count": 26,
      "outputs": [
        {
          "output_type": "stream",
          "name": "stdout",
          "text": [
            "Digite um numero:15\n",
            "Esse numero está dentro do intervalo!\n"
          ]
        }
      ]
    },
    {
      "cell_type": "markdown",
      "source": [
        "# Classificação do Triângulo"
      ],
      "metadata": {
        "id": "kEk9ITz-SDiO"
      }
    },
    {
      "cell_type": "code",
      "source": [
        "ld1 = int(input('Digite o primeiro lado do triângulo:'))\n",
        "ld2 = int(input('Digite o segundo lado do triângulo:'))\n",
        "ld3 = int(input('Digite o terceiro lado do triângulo:'))\n",
        "\n",
        "if ld1+ld2>ld3 and ld1+ld3>ld2 and ld3+ld2>ld1:\n",
        "  print('É possivel criar um triângulo!')\n",
        "\n",
        "else:\n",
        "  print('Não é possivel criar um triângulo!')\n",
        "\n",
        "if ld1 == ld2 == ld3:\n",
        "    print('Esse triângulo é equilátero!')\n",
        "\n",
        "elif ld1 == ld2 or ld1 == ld3 or ld2 == ld3:\n",
        "    print('Esse triângulo é isósceles!')\n",
        "\n",
        "elif ld1 != ld2 != ld3:\n",
        "    print('Esse triângulo é escaleno!')\n",
        "\n",
        "\n"
      ],
      "metadata": {
        "colab": {
          "base_uri": "https://localhost:8080/"
        },
        "id": "1z9LZo8OSPOH",
        "outputId": "c0a69963-0511-48e0-d1b1-6c5e8886ecff"
      },
      "execution_count": 36,
      "outputs": [
        {
          "output_type": "stream",
          "name": "stdout",
          "text": [
            "Digite o primeiro lado do triângulo:2\n",
            "Digite o segundo lado do triângulo:2\n",
            "Digite o terceiro lado do triângulo:2\n",
            "É possivel criar um triângulo!\n",
            "Esse triângulo é equilátero!\n"
          ]
        }
      ]
    }
  ]
}