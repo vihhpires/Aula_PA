{
  "nbformat": 4,
  "nbformat_minor": 0,
  "metadata": {
    "colab": {
      "provenance": [],
      "authorship_tag": "ABX9TyMtBcmFXgx9hzrll+xsOSJD",
      "include_colab_link": true
    },
    "kernelspec": {
      "name": "python3",
      "display_name": "Python 3"
    },
    "language_info": {
      "name": "python"
    }
  },
  "cells": [
    {
      "cell_type": "markdown",
      "metadata": {
        "id": "view-in-github",
        "colab_type": "text"
      },
      "source": [
        "<a href=\"https://colab.research.google.com/github/vihhpires/Aula_PA/blob/main/OperadoresQuanticos/ativ2605.ipynb\" target=\"_parent\"><img src=\"https://colab.research.google.com/assets/colab-badge.svg\" alt=\"Open In Colab\"/></a>"
      ]
    },
    {
      "cell_type": "markdown",
      "source": [
        "# Farmácia"
      ],
      "metadata": {
        "id": "hgDfemztetqI"
      }
    },
    {
      "cell_type": "code",
      "execution_count": 2,
      "metadata": {
        "colab": {
          "base_uri": "https://localhost:8080/"
        },
        "id": "6r8Rt3ICeslu",
        "outputId": "afefa5a6-064d-46bb-8921-1e535d74dcf1"
      },
      "outputs": [
        {
          "output_type": "stream",
          "name": "stdout",
          "text": [
            "Digite o valor do medicamento: R$ 450\n",
            "Digite a idade do cliente: 78\n",
            "Desconto aplicado: R$ 112.50\n",
            "Valor final a ser pago: R$ 337.50\n"
          ]
        }
      ],
      "source": [
        "# Solicita ao usuário o valor do medicamento e a idade do cliente\n",
        "valor_original = float(input(\"Digite o valor do medicamento: R$ \"))\n",
        "idade = int(input(\"Digite a idade do cliente: \"))\n",
        "\n",
        "# Inicializa o valor do desconto\n",
        "desconto = 0\n",
        "\n",
        "# Aplica o desconto com base na idade\n",
        "if idade < 12:\n",
        "    desconto = 0.15\n",
        "elif 60 <= idade <= 75:\n",
        "    desconto = 0.20\n",
        "elif idade > 75:\n",
        "    desconto = 0.25\n",
        "\n",
        "# Calcula o valor do desconto e o valor final\n",
        "valor_do_desconto = valor_original * desconto\n",
        "valor_final = valor_original - valor_do_desconto\n",
        "\n",
        "# Exibe os resultados\n",
        "if desconto > 0:\n",
        "    print(f\"Desconto aplicado: R$ {valor_do_desconto:.2f}\")\n",
        "else:\n",
        "    print(\"Cliente não tem direito a desconto.\")\n",
        "print(f\"Valor final a ser pago: R$ {valor_final:.2f}\")\n"
      ]
    }
  ]
}