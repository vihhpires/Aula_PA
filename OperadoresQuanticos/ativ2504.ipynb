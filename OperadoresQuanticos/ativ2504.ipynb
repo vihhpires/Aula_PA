{
  "nbformat": 4,
  "nbformat_minor": 0,
  "metadata": {
    "colab": {
      "provenance": [],
      "authorship_tag": "ABX9TyPUiuELiEytx+xpoWMjbi8M",
      "include_colab_link": true
    },
    "kernelspec": {
      "name": "python3",
      "display_name": "Python 3"
    },
    "language_info": {
      "name": "python"
    }
  },
  "cells": [
    {
      "cell_type": "markdown",
      "metadata": {
        "id": "view-in-github",
        "colab_type": "text"
      },
      "source": [
        "<a href=\"https://colab.research.google.com/github/vihhpires/Aula_PA/blob/main/OperadoresQuanticos/ativ2504.ipynb\" target=\"_parent\"><img src=\"https://colab.research.google.com/assets/colab-badge.svg\" alt=\"Open In Colab\"/></a>"
      ]
    },
    {
      "cell_type": "code",
      "execution_count": 4,
      "metadata": {
        "colab": {
          "base_uri": "https://localhost:8080/"
        },
        "id": "vgrrysSWBNcM",
        "outputId": "c4d2515f-b71e-44e5-900e-ccf57e0b6229"
      },
      "outputs": [
        {
          "output_type": "stream",
          "name": "stdout",
          "text": [
            "Digite um número: 123\n",
            "O número é par? False o número digitado foi: 123\n",
            "O número é ímpar? True o número digitado foi: 123\n"
          ]
        }
      ],
      "source": [
        "#verificando se o número é impar ou par em phyton sem if else\n",
        "valor = int(input('Digite um número: '))\n",
        "\n",
        "par = (valor%2 == 0)\n",
        "impar = (valor%2 == 1)\n",
        "\n",
        "print(\"O número é par?\", par, \"o número digitado foi:\", valor )\n",
        "print(\"O número é ímpar?\", impar, \"o número digitado foi:\", valor )\n",
        ""
      ]
    },
    {
      "cell_type": "code",
      "source": [
        "#três lados de um tiângulo\n",
        "l1 = int(input('Qual a medida do 1° lado?'))\n",
        "l2 = int(input('Qual a medida do 2° lado?'))\n",
        "l3 = int(input('Qual a medida do 3° lado?'))\n",
        "\n",
        "#A)\n",
        "triangulo = (l1+l2>l3 and l1+l3>l2 and l3+l2>l1 )\n",
        "print(\"Com esses lados dá para formar um triângulo?\", triangulo)\n",
        "\n",
        "#B)\n",
        "equilatero = (l1 == l2 == l3)\n",
        "isosceles = (l1 == l2 != l3 or l1 == l3 != l2 or l3 == l2 != l1)\n",
        "escaleno = (l1 != l2 != l3)\n",
        "print(\"O triângulo é equilátero?\", equilatero )\n",
        "print(\"O triângulo é isósceles?\", isosceles )\n",
        "print(\"O triângulo é escaleno?\", escaleno )\n"
      ],
      "metadata": {
        "colab": {
          "base_uri": "https://localhost:8080/"
        },
        "id": "oAQ7uX7XBcGp",
        "outputId": "e95dc86c-3c5e-4729-9d14-04515c695821"
      },
      "execution_count": 3,
      "outputs": [
        {
          "output_type": "stream",
          "name": "stdout",
          "text": [
            "Qual a medida do 1° lado?4\n",
            "Qual a medida do 2° lado?4\n",
            "Qual a medida do 3° lado?7\n",
            "Com esses lados dá para formar um triângulo? True\n",
            "O triângulo é equilátero? False\n",
            "O triângulo é isósceles? True\n",
            "O triângulo é escaleno? False\n"
          ]
        }
      ]
    },
    {
      "cell_type": "code",
      "source": [
        "#informando IMC\n",
        "peso = float(input(\"Informe o seu peso: \"))\n",
        "alt = float(input(\"Informe a sua altura\"))\n",
        "\n",
        "IMC = peso/alt**2\n",
        "\n",
        "abaixo = IMC < 18.5\n",
        "normal = 18.5 <= IMC < 25\n",
        "sobrepeso = 25 <= IMC < 30\n",
        "obesidade1 = 30 <= IMC < 35\n",
        "obesidade2 = 35 <= IMC < 40\n",
        "obesidade3 = IMC >= 40\n",
        "\n",
        "print(f\"O seu IMC é: {IMC:2.2f}\")\n",
        "\n",
        "\n",
        "print(\"Seu IMC está abaixo do peso? \", abaixo)\n",
        "print(\"Seu IMC está normal? \", normal)\n",
        "print(\"Seu IMC está no sobrepeso? \", sobrepeso)\n",
        "print(\"Seu IMC está no 1° grau de obesidade? \", obesidade1)\n",
        "print(\"Seu IMC está no 2° grau de obesidade? \", obesidade2 )\n",
        "print(\"Seu IMC está no 3° grau de obesidade? \", obesidade3 )"
      ],
      "metadata": {
        "colab": {
          "base_uri": "https://localhost:8080/"
        },
        "id": "OtFW-HLSBnir",
        "outputId": "e3402a46-026f-4dc0-b826-e7878ab97ce3"
      },
      "execution_count": 2,
      "outputs": [
        {
          "output_type": "stream",
          "name": "stdout",
          "text": [
            "Informe o seu peso: 53\n",
            "Informe a sua altura1.70\n",
            "O seu IMC é: 18.34\n",
            "Seu IMC está abaixo do peso?  True\n",
            "Seu IMC está normal?  False\n",
            "Seu IMC está no sobrepeso?  False\n",
            "Seu IMC está no 1° grau de obesidade?  False\n",
            "Seu IMC está no 2° grau de obesidade?  False\n",
            "Seu IMC está no 3° grau de obesidade?  False\n"
          ]
        }
      ]
    },
    {
      "cell_type": "code",
      "source": [
        "#permissão para competir\n",
        "alt = float(input(\"Informe a sua altura: \"))\n",
        "idade = int(input(\"Informe sua idade: \"))\n",
        "\n",
        "permissao = (alt >= 1.75 and idade >= 18 )\n",
        "\n",
        "print(\"Você tem permissao para competir?\", permissao)\n",
        ""
      ],
      "metadata": {
        "colab": {
          "base_uri": "https://localhost:8080/"
        },
        "id": "I6riDv41Bsa_",
        "outputId": "b9352c91-06c6-4bbe-f52f-bc23b236e34d"
      },
      "execution_count": 1,
      "outputs": [
        {
          "output_type": "stream",
          "name": "stdout",
          "text": [
            "Informe a sua altura: 1.80\n",
            "Informe sua idade: 17\n",
            "Você tem permissao para competir? False\n"
          ]
        }
      ]
    }
  ]
}