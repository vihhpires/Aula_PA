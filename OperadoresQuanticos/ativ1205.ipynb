{
  "nbformat": 4,
  "nbformat_minor": 0,
  "metadata": {
    "colab": {
      "provenance": [],
      "authorship_tag": "ABX9TyProb8zPqado4undQpTrTO7",
      "include_colab_link": true
    },
    "kernelspec": {
      "name": "python3",
      "display_name": "Python 3"
    },
    "language_info": {
      "name": "python"
    }
  },
  "cells": [
    {
      "cell_type": "markdown",
      "metadata": {
        "id": "view-in-github",
        "colab_type": "text"
      },
      "source": [
        "<a href=\"https://colab.research.google.com/github/vihhpires/Aula_PA/blob/main/OperadoresQuanticos/ativ1205.ipynb\" target=\"_parent\"><img src=\"https://colab.research.google.com/assets/colab-badge.svg\" alt=\"Open In Colab\"/></a>"
      ]
    },
    {
      "cell_type": "code",
      "execution_count": null,
      "metadata": {
        "colab": {
          "base_uri": "https://localhost:8080/"
        },
        "id": "ohqOgSfCDs_1",
        "outputId": "9227e542-7c9a-426f-bf59-bc89bf21b3e1"
      },
      "outputs": [
        {
          "output_type": "stream",
          "name": "stdout",
          "text": [
            "Digite um numero:4\n",
            "O numero 4 é Par\n"
          ]
        }
      ],
      "source": [
        "valor = int(input('Digite um numero:'))\n",
        "\n",
        "if valor % 2 == 0:\n",
        "    print('O numero', valor,'é Par')\n",
        "\n",
        "else:\n",
        "    print('O numero', valor,'é Impar')\n"
      ]
    },
    {
      "cell_type": "code",
      "source": [
        "\n",
        "l1 = int(input('Qual a medida do 1° lado?'))\n",
        "l2 = int(input('Qual a medida do 2° lado?'))\n",
        "l3 = int(input('Qual a medida do 3° lado?'))\n",
        "\n",
        "if l1+l2>l3 and l1+l3>l2 and l3+l2>l1:\n",
        "  print('Com esses lados dá para formar um triângulo')\n",
        "\n",
        "else:\n",
        "  print(\"Com esses lados não dá para formar um triângulo.\")\n",
        "\n",
        "if l1==l2==l3:\n",
        "  print('O triângulo é Equilátero')\n",
        "\n",
        "elif l1 == l2 or l1 == l3 or l2 == l3:\n",
        "  print(\"O triângulo é isósceles.\")\n",
        "\n",
        "\n",
        "elif l1 != l2 != l3:\n",
        "  print(\"O triângulo é escaleno.\")\n",
        "\n",
        "\n",
        "\n",
        "\n",
        "\n",
        "\n",
        "\n",
        "\n"
      ],
      "metadata": {
        "colab": {
          "base_uri": "https://localhost:8080/"
        },
        "id": "8suyDO8BGA3P",
        "outputId": "d5dc216d-0887-41bd-a277-f8418addbb90"
      },
      "execution_count": 13,
      "outputs": [
        {
          "output_type": "stream",
          "name": "stdout",
          "text": [
            "Qual a medida do 1° lado?5\n",
            "Qual a medida do 2° lado?5\n",
            "Qual a medida do 3° lado?0\n",
            "Com esses lados não dá para formar um triângulo.\n",
            "O triângulo é isósceles.\n"
          ]
        }
      ]
    },
    {
      "cell_type": "markdown",
      "source": [
        "# IMC"
      ],
      "metadata": {
        "id": "PY9nHC1K7Vim"
      }
    },
    {
      "cell_type": "code",
      "source": [
        "peso = float(input(\"Informe o seu peso: \"))\n",
        "alt = float(input(\"Informe a sua altura\"))\n",
        "\n",
        "IMC = peso/alt**2\n",
        "\n",
        "abaixo = IMC < 18.5\n",
        "normal = 18.5 <= IMC < 25\n",
        "sobrepeso = 25 <= IMC < 30\n",
        "obesidade1 = 30 <= IMC < 35\n",
        "obesidade2 = 35 <= IMC < 40\n",
        "obesidade3 = IMC >= 40\n",
        "\n",
        "if abaixo:\n",
        "  print(\"Abaixo do peso\")\n",
        "\n",
        "elif normal:\n",
        "  print(\"Peso normal\")\n",
        "\n",
        "elif sobrepeso:\n",
        "  print(\"Sobrepeso\")\n",
        "\n",
        "elif obesidade1:\n",
        "  print(\"Obesidade grau 1\")\n",
        "\n",
        "elif obesidade2:\n",
        "  print(\"Obesidade grau 2\")\n",
        "\n",
        "elif obesidade3:\n",
        "  print(\"Obesidade grau 3\")"
      ],
      "metadata": {
        "colab": {
          "base_uri": "https://localhost:8080/"
        },
        "id": "N_JMlcoI7fHg",
        "outputId": "7212a786-74af-4b4a-8d82-89d9bf08a1b4"
      },
      "execution_count": 14,
      "outputs": [
        {
          "output_type": "stream",
          "name": "stdout",
          "text": [
            "Informe o seu peso: 53\n",
            "Informe a sua altura1.70\n",
            "Abaixo do peso\n"
          ]
        }
      ]
    }
  ]
}