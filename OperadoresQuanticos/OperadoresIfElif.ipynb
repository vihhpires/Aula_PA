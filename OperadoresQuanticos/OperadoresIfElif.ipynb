{
  "nbformat": 4,
  "nbformat_minor": 0,
  "metadata": {
    "colab": {
      "provenance": [],
      "authorship_tag": "ABX9TyO+6aug7ajuha/zKkxbiX1G",
      "include_colab_link": true
    },
    "kernelspec": {
      "name": "python3",
      "display_name": "Python 3"
    },
    "language_info": {
      "name": "python"
    }
  },
  "cells": [
    {
      "cell_type": "markdown",
      "metadata": {
        "id": "view-in-github",
        "colab_type": "text"
      },
      "source": [
        "<a href=\"https://colab.research.google.com/github/vihhpires/Aula_PA/blob/main/OperadoresQuanticos/OperadoresIfElif.ipynb\" target=\"_parent\"><img src=\"https://colab.research.google.com/assets/colab-badge.svg\" alt=\"Open In Colab\"/></a>"
      ]
    },
    {
      "cell_type": "markdown",
      "source": [
        "# Comparação de Idades"
      ],
      "metadata": {
        "id": "eZGFqx-9sYSy"
      }
    },
    {
      "cell_type": "code",
      "execution_count": null,
      "metadata": {
        "colab": {
          "base_uri": "https://localhost:8080/"
        },
        "id": "txcV8EF8sSMm",
        "outputId": "14d68e50-5f32-40ba-8c34-53d9c56869ea"
      },
      "outputs": [
        {
          "output_type": "stream",
          "name": "stdout",
          "text": [
            "Digite a idade da primeira pessoa:31\n",
            "Digite a idade da segunda pessoa:15\n",
            "A pessoa da primeira idade é mais velha\n"
          ]
        }
      ],
      "source": [
        "id1 = int(input('Digite a idade da primeira pessoa:'))\n",
        "id2 = int(input('Digite a idade da segunda pessoa:'))\n",
        "\n",
        "if id1 > id2:\n",
        "  print('A pessoa da primeira idade é mais velha')\n",
        "\n",
        "elif id2 > id1:\n",
        "  print('A pessoa da sefunda idade é mais velha')\n"
      ]
    },
    {
      "cell_type": "markdown",
      "source": [
        "# Validação de Acesso"
      ],
      "metadata": {
        "id": "LFMKUyaquLxJ"
      }
    },
    {
      "cell_type": "code",
      "source": [
        "id = int(input('Digite a sua idade:'))\n",
        "senha = int(input('Digite a sua senha:'))\n",
        "\n",
        "if id >= 18 and senha == 1234:\n",
        " print('Acesso permitido')\n",
        "\n",
        "else:\n",
        "  print('Acesso negado')\n",
        "\n"
      ],
      "metadata": {
        "colab": {
          "base_uri": "https://localhost:8080/"
        },
        "id": "gWrHYlInuTDV",
        "outputId": "6ab7fce8-dcb2-400f-82b4-62630345db37"
      },
      "execution_count": null,
      "outputs": [
        {
          "output_type": "stream",
          "name": "stdout",
          "text": [
            "Digite a sua idade:15\n",
            "Digite a sua senha:1234\n",
            "Acesso negado\n"
          ]
        }
      ]
    },
    {
      "cell_type": "markdown",
      "source": [
        "# Numero fora do Intervalo"
      ],
      "metadata": {
        "id": "0P25NJKMxlTr"
      }
    },
    {
      "cell_type": "code",
      "source": [
        "num = int(input('Digite um numero:'))\n",
        "\n",
        "if num >= 10 and num <= 50:\n",
        "  print('Este numero está dentro do intervalo.')\n",
        "\n",
        "elif num < 10 or num > 50:\n",
        "  print('Esse número  não está no intervalo')"
      ],
      "metadata": {
        "colab": {
          "base_uri": "https://localhost:8080/"
        },
        "id": "Gr40ReG3xzDc",
        "outputId": "58602677-a096-4e61-d4a4-fe035f5c9515"
      },
      "execution_count": null,
      "outputs": [
        {
          "output_type": "stream",
          "name": "stdout",
          "text": [
            "Digite um numero:15\n",
            "Este numero está dentro do intervalo.\n"
          ]
        }
      ]
    },
    {
      "cell_type": "markdown",
      "source": [
        "# Compra Aprovação"
      ],
      "metadata": {
        "id": "MuEEvxva4UYJ"
      }
    },
    {
      "cell_type": "code",
      "source": [
        "s = float(input('Digite o seu saldo:'))\n",
        "c = (input('Informe se você tem o cupom: (Sim ou Não)'))\n",
        "\n",
        "if s >= 60 or c == 'Sim':\n",
        "  print('Compra aprovada!')\n",
        "\n",
        "elif s < 60 or c == 'Não':\n",
        "  print('Compra negada!')"
      ],
      "metadata": {
        "colab": {
          "base_uri": "https://localhost:8080/"
        },
        "id": "ofl5Cb184r26",
        "outputId": "29205049-2c1c-4f3c-ec1f-6ea685e26cc4"
      },
      "execution_count": null,
      "outputs": [
        {
          "output_type": "stream",
          "name": "stdout",
          "text": [
            "Digite o seu saldo:20\n",
            "Informe se você tem o cupom: (Sim ou Não)Não\n",
            "Compra negada!\n"
          ]
        }
      ]
    },
    {
      "cell_type": "markdown",
      "source": [
        "# Checar Condiçãoes Múltipla"
      ],
      "metadata": {
        "id": "IjD8V7rj8Vhp"
      }
    },
    {
      "cell_type": "code",
      "source": [
        "num = int(input('digite um número:'))\n",
        "\n",
        "p = num % 2 == 0\n",
        "c = num >0\n",
        "pc = p and c\n",
        "\n",
        "print('É', pc, 'que o numero é par')\n",
        "\n"
      ],
      "metadata": {
        "colab": {
          "base_uri": "https://localhost:8080/"
        },
        "id": "5Wym8Xr_9VOO",
        "outputId": "70382209-cf12-4854-b0ba-82831361c918"
      },
      "execution_count": null,
      "outputs": [
        {
          "output_type": "stream",
          "name": "stdout",
          "text": [
            "digite um número:4\n",
            "É True que o numero é par\n"
          ]
        }
      ]
    },
    {
      "cell_type": "markdown",
      "source": [
        "# Vereficar se Adolescente"
      ],
      "metadata": {
        "id": "qanHdVlTBmgt"
      }
    },
    {
      "cell_type": "code",
      "source": [
        "id = int(input('Digite a sua idade:'))\n",
        "\n",
        "id = id >= 13 and id <= 17\n",
        "\n",
        "print(id,'Você é adolescente.')"
      ],
      "metadata": {
        "colab": {
          "base_uri": "https://localhost:8080/"
        },
        "id": "8mfpMBCaCIkW",
        "outputId": "afd1b1ed-3f42-4a26-bdd7-5be6b3493e2b"
      },
      "execution_count": null,
      "outputs": [
        {
          "output_type": "stream",
          "name": "stdout",
          "text": [
            "Digite a sua idade:15\n",
            "True Você é adolescente.\n"
          ]
        }
      ]
    },
    {
      "cell_type": "markdown",
      "source": [
        "## Senha Correta ou Admin"
      ],
      "metadata": {
        "id": "V8tWavEXDEfX"
      }
    },
    {
      "cell_type": "code",
      "source": [
        "senha = int(input('Digite a sua senha:'))\n",
        "adim = input('Informe se você é o admin')\n",
        "\n",
        "login = senha == 12345 or adim == 'sim'\n",
        "\n",
        "print(login,'Logado com sucesso!')"
      ],
      "metadata": {
        "id": "40LZw5U9DcYA",
        "colab": {
          "base_uri": "https://localhost:8080/"
        },
        "outputId": "2592b7f4-4859-41c8-85fa-15e44a5c381e"
      },
      "execution_count": 4,
      "outputs": [
        {
          "output_type": "stream",
          "name": "stdout",
          "text": [
            "Digite a sua senha:12345\n",
            "Informe se você é o adminnão\n",
            "True Logado com sucesso!\n"
          ]
        }
      ]
    },
    {
      "cell_type": "markdown",
      "source": [
        "# Nota para Aprovação"
      ],
      "metadata": {
        "id": "-pQ2pZ8g01dv"
      }
    },
    {
      "cell_type": "code",
      "source": [
        "nota = int(input('Digite a sua nota:'))\n",
        "ausen = input('Digite a sua ausencia:')\n",
        "\n",
        "apro = nota >= 6 and ausen == 'presente'\n",
        "\n",
        "print(apro, 'Você foi aprovada(o)!')"
      ],
      "metadata": {
        "colab": {
          "base_uri": "https://localhost:8080/"
        },
        "id": "qr3CIuHu0_8B",
        "outputId": "c3517c3b-aaec-4cde-d05e-207fd3612c6a"
      },
      "execution_count": 9,
      "outputs": [
        {
          "output_type": "stream",
          "name": "stdout",
          "text": [
            "Digite a sua nota:8\n",
            "Digite a sua ausencia:presente\n",
            "True Você foi aprovada(o)!\n"
          ]
        }
      ]
    },
    {
      "cell_type": "markdown",
      "source": [
        "# Sistema de Multa de Velocidade"
      ],
      "metadata": {
        "id": "V7YQJhQD2y_5"
      }
    },
    {
      "cell_type": "code",
      "source": [
        "velo = int(input('Digite a sua velocidade:'))\n",
        "\n",
        "multa = velo > 80\n",
        "\n",
        "print(multa, 'Você foi multado!')"
      ],
      "metadata": {
        "colab": {
          "base_uri": "https://localhost:8080/"
        },
        "id": "P84AkBkv3CbX",
        "outputId": "069d8594-0256-4b73-c6a4-57a01b006faf"
      },
      "execution_count": 11,
      "outputs": [
        {
          "output_type": "stream",
          "name": "stdout",
          "text": [
            "Digite a sua velocidade:100\n",
            "True Você foi multado!\n"
          ]
        }
      ]
    },
    {
      "cell_type": "markdown",
      "source": [
        "# Triagem de Eventos"
      ],
      "metadata": {
        "id": "YH44z0lB3zRH"
      }
    },
    {
      "cell_type": "code",
      "source": [
        "id = int(input('Informe a sua Idade:'))\n",
        "convite = input('Informe se você tam o Convite:')\n",
        "\n",
        "acesso = id >= 18 and convite == 'sim'\n",
        "\n",
        "print(acesso,'Entrada concedida!')"
      ],
      "metadata": {
        "colab": {
          "base_uri": "https://localhost:8080/"
        },
        "id": "SOy3Qg4535B5",
        "outputId": "c5427fa3-8d33-4908-8cc4-4982eb91f5a9"
      },
      "execution_count": 14,
      "outputs": [
        {
          "output_type": "stream",
          "name": "stdout",
          "text": [
            "Informe a sua Idade:18\n",
            "Informe se você tam o Convite:sim\n",
            "True Entrada concedida!\n"
          ]
        }
      ]
    }
  ]
}